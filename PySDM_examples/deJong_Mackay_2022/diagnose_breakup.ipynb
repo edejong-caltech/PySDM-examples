{
 "cells": [
  {
   "cell_type": "code",
   "execution_count": 1,
   "metadata": {},
   "outputs": [],
   "source": [
    "%load_ext autoreload\n",
    "%autoreload 2\n",
    "\n",
    "from matplotlib import pyplot\n",
    "import matplotlib\n",
    "from PySDM_examples.deJong_Mackay_2022 import Settings\n",
    "from PySDM_examples.deJong_Mackay_2022 import run_box_breakup\n",
    "from atmos_cloud_sim_uj_utils import show_plot\n",
    "import numpy as np\n",
    "NUMBA_DISABLE_JIT = 1\n",
    "\n",
    "from PySDM.dynamics.collisions.coalescence_efficiencies import Berry1967, ConstEc\n",
    "from PySDM.dynamics.collisions.breakup_fragmentations import Gaussian, ExponFrag, AlwaysN\n",
    "from PySDM.physics.constants import si\n",
    "import PySDM.physics.constants as const\n",
    "from PySDM.physics.trivia import Trivia"
   ]
  },
  {
   "cell_type": "markdown",
   "metadata": {},
   "source": [
    "## Problem Description\n",
    "The problem is that the code will hang sometimes for collisions. This is more likely if the collection efficiency (Ec) is lower, or more complex like the Berry1967 kernel. It also happens reliably for a fragmentation function which is stochastic (gaussian or exponential) even with limiters in place, versus a constant number of fragments. Finally, it happens more reliably when more superdroplets are used."
   ]
  },
  {
   "cell_type": "code",
   "execution_count": 3,
   "metadata": {},
   "outputs": [
    {
     "name": "stderr",
     "output_type": "stream",
     "text": [
      "overflow\n",
      "\tfile: /Users/emilydejong/Documents/PySDM/PySDM/backends/impl_numba/methods/collisions_methods.py\n",
      "overflow\n",
      "\tfile: /Users/emilydejong/Documents/PySDM/PySDM/backends/impl_numba/methods/collisions_methods.py\n",
      "overflow\n",
      "\tfile: /Users/emilydejong/Documents/PySDM/PySDM/backends/impl_numba/methods/collisions_methods.py\n",
      "overflow\n",
      "\tfile: /Users/emilydejong/Documents/PySDM/PySDM/backends/impl_numba/methods/collisions_methods.py\n",
      "overflow\n",
      "\tfile: /Users/emilydejong/Documents/PySDM/PySDM/backends/impl_numba/methods/collisions_methods.py\n",
      "overflow\n",
      "\tfile: /Users/emilydejong/Documents/PySDM/PySDM/backends/impl_numba/methods/collisions_methods.py\n"
     ]
    },
    {
     "name": "stdout",
     "output_type": "stream",
     "text": [
      "[[0.00000000e+00 0.00000000e+00 0.00000000e+00 0.00000000e+00]\n",
      " [3.41789750e+06 0.00000000e+00 3.08587320e+06 3.32024300e+05]\n",
      " [2.49506440e+06 0.00000000e+00 2.19721920e+06 2.97845200e+05]\n",
      " [1.77486910e+06 0.00000000e+00 1.63815220e+06 1.36716900e+05]\n",
      " [1.15710940e+06 0.00000000e+00 9.74817000e+05 1.87174300e+05]\n",
      " [6.22571200e+05 0.00000000e+00 5.81067500e+05 4.15037000e+04]\n",
      " [2.88053200e+05 0.00000000e+00 2.74839700e+05 1.32135000e+04]\n",
      " [1.32827300e+05 0.00000000e+00 1.11790600e+05 2.12692000e+04]\n",
      " [8.53149000e+04 0.00000000e+00 7.87435000e+04 9.21430000e+03]\n",
      " [1.76373700e+05 0.00000000e+00 1.70918300e+05 2.08337800e+05]\n",
      " [5.95806549e+12 0.00000000e+00 5.67919858e+12 1.02749827e+13]]\n"
     ]
    },
    {
     "data": {
      "image/png": "[encoded data removed]",
      "text/plain": [
       "<Figure size 432x288 with 1 Axes>"
      ]
     },
     "metadata": {
      "needs_background": "light"
     },
     "output_type": "display_data"
    }
   ],
   "source": [
    "# DEBUGGING\n",
    "settings = Settings()\n",
    "settings.warn_overflows = True\n",
    "settings.adaptive = True        # I haven't found a strong correlation whether this makes a difference\n",
    "t_steps = np.linspace(0,100,11,dtype=\"int\") # time steps for outputting collision, collision deficit, coalescence, breakup rates\n",
    "\n",
    "Ec = 0.9\n",
    "settings.coal_eff = ConstEc(Ec = Ec)\n",
    "#settings.coal_eff = Berry1967()\n",
    "settings.n_sd = 2**8\n",
    "\n",
    "mu = Trivia.volume(const, 100 * si.um)\n",
    "vmin = Trivia.volume(const, 1 * si.um)\n",
    "nfmax = 10\n",
    "settings.fragmentation = Gaussian(mu = mu, sigma = mu / 4, vmin=vmin, nfmax=nfmax) # with limiters\n",
    "#settings.fragmentation = Gaussian(mu = mu, sigma = mu / 4) # without limiters\n",
    "#settings.fragmentation = ExponFrag(scale = mu)\n",
    "(x,y,rates) = run_box_breakup(settings, t_steps)\n",
    "print(rates)\n",
    "for (j, step) in enumerate(t_steps):\n",
    "        lbl = 'Ec = ' + str(Ec)\n",
    "        pyplot.step(x,y[j]*settings.rho)\n",
    "pyplot.xscale(\"log\")"
   ]
  },
  {
   "cell_type": "code",
   "execution_count": null,
   "metadata": {},
   "outputs": [],
   "source": []
  }
 ],
 "metadata": {
  "interpreter": {
   "hash": "31f2aee4e71d21fbe5cf8b01ff0e069b9275f58929596ceb00d14d90e3e16cd6"
  },
  "kernelspec": {
   "display_name": "Python 3.8.2 64-bit",
   "language": "python",
   "name": "python3"
  },
  "language_info": {
   "codemirror_mode": {
    "name": "ipython",
    "version": 3
   },
   "file_extension": ".py",
   "mimetype": "text/x-python",
   "name": "python",
   "nbconvert_exporter": "python",
   "pygments_lexer": "ipython3",
   "version": "3.9.4"
  },
  "orig_nbformat": 4
 },
 "nbformat": 4,
 "nbformat_minor": 2
}
