{
 "cells": [
  {
   "cell_type": "code",
   "execution_count": 1,
   "metadata": {},
   "outputs": [],
   "source": [
    "%load_ext autoreload\n",
    "%autoreload 2\n",
    "\n",
    "# import os\n",
    "# os.environ['NUMBA_DISABLE_JIT'] = '1'"
   ]
  },
  {
   "cell_type": "code",
   "execution_count": 2,
   "metadata": {},
   "outputs": [],
   "source": [
    "from matplotlib import pyplot\n",
    "import matplotlib\n",
    "from PySDM_examples.deJong_Mackay_2022 import run_to_steady_state, get_straub_fig10_data, get_straub_fig10_init\n",
    "from atmos_cloud_sim_uj_utils import show_plot\n",
    "import numpy as np\n",
    "from PySDM.physics.constants import si\n",
    "import pickle as pkl\n",
    "import time"
   ]
  },
  {
   "cell_type": "code",
   "execution_count": 3,
   "metadata": {},
   "outputs": [],
   "source": [
    "(straub_x, straub_log_y) = get_straub_fig10_data()\n",
    "(straub_x_init, straub_y_init) = get_straub_fig10_init()"
   ]
  },
  {
   "cell_type": "code",
   "execution_count": 41,
   "metadata": {},
   "outputs": [
    {
     "name": "stdout",
     "output_type": "stream",
     "text": [
      "Success with run #1\n",
      "ran Straub2010 for 256 superdroplets in 0.447019100189209 sec\n"
     ]
    },
    {
     "data": {
      "image/svg+xml": "<?xml version=\"1.0\" encoding=\"utf-8\" standalone=\"no\"?>\n<!DOCTYPE svg PUBLIC \"-//W3C//DTD SVG 1.1//EN\"\n  \"http://www.w3.org/Graphics/SVG/1.1/DTD/svg11.dtd\">\n<svg height=\"277.314375pt\" version=\"1.1\" viewBox=\"0 0 619.451562 277.314375\" width=\"619.451562pt\" xmlns=\"http://www.w3.org/2000/svg\" xmlns:xlink=\"http://www.w3.org/1999/xlink\">\n <metadata>\n  <rdf:RDF xmlns:cc=\"http://creativecommons.org/ns#\" xmlns:dc=\"http://purl.org/dc/elements/1.1/\" xmlns:rdf=\"http://www.w3.org/1999/02/22-rdf-syntax-ns#\">\n   <cc:Work>\n    <dc:type rdf:resource=\"http://purl.org/dc/dcmitype/StillImage\"/>\n    <dc:date>2023-03-29T14:56:02.487205</dc:date>\n    <dc:format>image/svg+xml</dc:format>\n    <dc:creator>\n     <cc:Agent>\n      <dc:title>Matplotlib v3.4.2, https://matplotlib.org/</dc:title>\n     </cc:Agent>\n    </dc:creator>\n   </cc:Work>\n  </rdf:RDF>\n </metadata>\n <defs>\n  <style type=\"text/css\">*{stroke-linecap:butt;stroke-linejoin:round;}</style>\n </defs>\n <g id=\"figure_1\">\n  <g id=\"patch_1\">\n   <path d=\"M 0 277.314375 \nL 619.451562 277.314375 \nL 619.451562 0 \nL 0 0 \nz\n\" style=\"fill:none;\"/>\n  </g>\n  <g id=\"axes_1\">\n   <g id=\"patch_2\">\n    <path d=\"M 46.3 239.758125 \nL 299.936364 239.758125 \nL 299.936364 22.318125 \nL 46.3 22.318125 \nz\n\" style=\"fill:#ffffff;\"/>\n   </g>\n   <g id=\"matplotlib.axis_1\">\n    <g id=\"xtick_1\">\n     <g id=\"line2d_1\">\n      <defs>\n       <path d=\"M 0 0 \nL 0 3.5 \n\" id=\"m77e94857dd\" style=\"stroke:#000000;stroke-width:0.8;\"/>\n      </defs>\n      <g>\n       <use style=\"stroke:#000000;stroke-width:0.8;\" x=\"46.3\" xlink:href=\"#m77e94857dd\" y=\"239.758125\"/>\n      </g>\n     </g>\n     <g id=\"text_1\">\n      <!-- 0.0 -->\n      <g transform=\"translate(38.348437 254.356562)scale(0.1 -0.1)\">\n       <defs>\n        <path d=\"M 2034 4250 \nQ 1547 4250 1301 3770 \nQ 1056 3291 1056 2328 \nQ 1056 1369 1301 889 \nQ 1547 409 2034 409 \nQ 2525 409 2770 889 \nQ 3016 1369 3016 2328 \nQ 3016 3291 2770 3770 \nQ 2525 4250 2034 4250 \nz\nM 2034 4750 \nQ 2819 4750 3233 4129 \nQ 3647 3509 3647 2328 \nQ 3647 1150 3233 529 \nQ 2819 -91 2034 -91 \nQ 1250 -91 836 529 \nQ 422 1150 422 2328 \nQ 422 3509 836 4129 \nQ 1250 4750 2034 4750 \nz\n\" id=\"DejaVuSans-30\" transform=\"scale(0.015625)\"/>\n        <path d=\"M 684 794 \nL 1344 794 \nL 1344 0 \nL 684 0 \nL 684 794 \nz\n\" id=\"DejaVuSans-2e\" transform=\"scale(0.015625)\"/>\n       </defs>\n       <use xlink:href=\"#DejaVuSans-30\"/>\n       <use x=\"63.623047\" xlink:href=\"#DejaVuSans-2e\"/>\n       <use x=\"95.410156\" xlink:href=\"#DejaVuSans-30\"/>\n      </g>\n     </g>\n    </g>\n    <g id=\"xtick_2\">\n     <g id=\"line2d_2\">\n      <g>\n       <use style=\"stroke:#000000;stroke-width:0.8;\" x=\"78.004545\" xlink:href=\"#m77e94857dd\" y=\"239.758125\"/>\n      </g>\n     </g>\n     <g id=\"text_2\">\n      <!-- 0.5 -->\n      <g transform=\"translate(70.052983 254.356562)scale(0.1 -0.1)\">\n       <defs>\n        <path d=\"M 691 4666 \nL 3169 4666 \nL 3169 4134 \nL 1269 4134 \nL 1269 2991 \nQ 1406 3038 1543 3061 \nQ 1681 3084 1819 3084 \nQ 2600 3084 3056 2656 \nQ 3513 2228 3513 1497 \nQ 3513 744 3044 326 \nQ 2575 -91 1722 -91 \nQ 1428 -91 1123 -41 \nQ 819 9 494 109 \nL 494 744 \nQ 775 591 1075 516 \nQ 1375 441 1709 441 \nQ 2250 441 2565 725 \nQ 2881 1009 2881 1497 \nQ 2881 1984 2565 2268 \nQ 2250 2553 1709 2553 \nQ 1456 2553 1204 2497 \nQ 953 2441 691 2322 \nL 691 4666 \nz\n\" id=\"DejaVuSans-35\" transform=\"scale(0.015625)\"/>\n       </defs>\n       <use xlink:href=\"#DejaVuSans-30\"/>\n       <use x=\"63.623047\" xlink:href=\"#DejaVuSans-2e\"/>\n       <use x=\"95.410156\" xlink:href=\"#DejaVuSans-35\"/>\n      </g>\n     </g>\n    </g>\n    <g id=\"xtick_3\">\n     <g id=\"line2d_3\">\n      <g>\n       <use style=\"stroke:#000000;stroke-width:0.8;\" x=\"109.709091\" xlink:href=\"#m77e94857dd\" y=\"239.758125\"/>\n      </g>\n     </g>\n     <g id=\"text_3\">\n      <!-- 1.0 -->\n      <g transform=\"translate(101.757528 254.356562)scale(0.1 -0.1)\">\n       <defs>\n        <path d=\"M 794 531 \nL 1825 531 \nL 1825 4091 \nL 703 3866 \nL 703 4441 \nL 1819 4666 \nL 2450 4666 \nL 2450 531 \nL 3481 531 \nL 3481 0 \nL 794 0 \nL 794 531 \nz\n\" id=\"DejaVuSans-31\" transform=\"scale(0.015625)\"/>\n       </defs>\n       <use xlink:href=\"#DejaVuSans-31\"/>\n       <use x=\"63.623047\" xlink:href=\"#DejaVuSans-2e\"/>\n       <use x=\"95.410156\" xlink:href=\"#DejaVuSans-30\"/>\n      </g>\n     </g>\n    </g>\n    <g id=\"xtick_4\">\n     <g id=\"line2d_4\">\n      <g>\n       <use style=\"stroke:#000000;stroke-width:0.8;\" x=\"141.413636\" xlink:href=\"#m77e94857dd\" y=\"239.758125\"/>\n      </g>\n     </g>\n     <g id=\"text_4\">\n      <!-- 1.5 -->\n      <g transform=\"translate(133.462074 254.356562)scale(0.1 -0.1)\">\n       <use xlink:href=\"#DejaVuSans-31\"/>\n       <use x=\"63.623047\" xlink:href=\"#DejaVuSans-2e\"/>\n       <use x=\"95.410156\" xlink:href=\"#DejaVuSans-35\"/>\n      </g>\n     </g>\n    </g>\n    <g id=\"xtick_5\">\n     <g id=\"line2d_5\">\n      <g>\n       <use style=\"stroke:#000000;stroke-width:0.8;\" x=\"173.118182\" xlink:href=\"#m77e94857dd\" y=\"239.758125\"/>\n      </g>\n     </g>\n     <g id=\"text_5\">\n      <!-- 2.0 -->\n      <g transform=\"translate(165.166619 254.356562)scale(0.1 -0.1)\">\n       <defs>\n        <path d=\"M 1228 531 \nL 3431 531 \nL 3431 0 \nL 469 0 \nL 469 531 \nQ 828 903 1448 1529 \nQ 2069 2156 2228 2338 \nQ 2531 2678 2651 2914 \nQ 2772 3150 2772 3378 \nQ 2772 3750 2511 3984 \nQ 2250 4219 1831 4219 \nQ 1534 4219 1204 4116 \nQ 875 4013 500 3803 \nL 500 4441 \nQ 881 4594 1212 4672 \nQ 1544 4750 1819 4750 \nQ 2544 4750 2975 4387 \nQ 3406 4025 3406 3419 \nQ 3406 3131 3298 2873 \nQ 3191 2616 2906 2266 \nQ 2828 2175 2409 1742 \nQ 1991 1309 1228 531 \nz\n\" id=\"DejaVuSans-32\" transform=\"scale(0.015625)\"/>\n       </defs>\n       <use xlink:href=\"#DejaVuSans-32\"/>\n       <use x=\"63.623047\" xlink:href=\"#DejaVuSans-2e\"/>\n       <use x=\"95.410156\" xlink:href=\"#DejaVuSans-30\"/>\n      </g>\n     </g>\n    </g>\n    <g id=\"xtick_6\">\n     <g id=\"line2d_6\">\n      <g>\n       <use style=\"stroke:#000000;stroke-width:0.8;\" x=\"204.822727\" xlink:href=\"#m77e94857dd\" y=\"239.758125\"/>\n      </g>\n     </g>\n     <g id=\"text_6\">\n      <!-- 2.5 -->\n      <g transform=\"translate(196.871165 254.356562)scale(0.1 -0.1)\">\n       <use xlink:href=\"#DejaVuSans-32\"/>\n       <use x=\"63.623047\" xlink:href=\"#DejaVuSans-2e\"/>\n       <use x=\"95.410156\" xlink:href=\"#DejaVuSans-35\"/>\n      </g>\n     </g>\n    </g>\n    <g id=\"xtick_7\">\n     <g id=\"line2d_7\">\n      <g>\n       <use style=\"stroke:#000000;stroke-width:0.8;\" x=\"236.527273\" xlink:href=\"#m77e94857dd\" y=\"239.758125\"/>\n      </g>\n     </g>\n     <g id=\"text_7\">\n      <!-- 3.0 -->\n      <g transform=\"translate(228.57571 254.356562)scale(0.1 -0.1)\">\n       <defs>\n        <path d=\"M 2597 2516 \nQ 3050 2419 3304 2112 \nQ 3559 1806 3559 1356 \nQ 3559 666 3084 287 \nQ 2609 -91 1734 -91 \nQ 1441 -91 1130 -33 \nQ 819 25 488 141 \nL 488 750 \nQ 750 597 1062 519 \nQ 1375 441 1716 441 \nQ 2309 441 2620 675 \nQ 2931 909 2931 1356 \nQ 2931 1769 2642 2001 \nQ 2353 2234 1838 2234 \nL 1294 2234 \nL 1294 2753 \nL 1863 2753 \nQ 2328 2753 2575 2939 \nQ 2822 3125 2822 3475 \nQ 2822 3834 2567 4026 \nQ 2313 4219 1838 4219 \nQ 1578 4219 1281 4162 \nQ 984 4106 628 3988 \nL 628 4550 \nQ 988 4650 1302 4700 \nQ 1616 4750 1894 4750 \nQ 2613 4750 3031 4423 \nQ 3450 4097 3450 3541 \nQ 3450 3153 3228 2886 \nQ 3006 2619 2597 2516 \nz\n\" id=\"DejaVuSans-33\" transform=\"scale(0.015625)\"/>\n       </defs>\n       <use xlink:href=\"#DejaVuSans-33\"/>\n       <use x=\"63.623047\" xlink:href=\"#DejaVuSans-2e\"/>\n       <use x=\"95.410156\" xlink:href=\"#DejaVuSans-30\"/>\n      </g>\n     </g>\n    </g>\n    <g id=\"xtick_8\">\n     <g id=\"line2d_8\">\n      <g>\n       <use style=\"stroke:#000000;stroke-width:0.8;\" x=\"268.231818\" xlink:href=\"#m77e94857dd\" y=\"239.758125\"/>\n      </g>\n     </g>\n     <g id=\"text_8\">\n      <!-- 3.5 -->\n      <g transform=\"translate(260.280256 254.356562)scale(0.1 -0.1)\">\n       <use xlink:href=\"#DejaVuSans-33\"/>\n       <use x=\"63.623047\" xlink:href=\"#DejaVuSans-2e\"/>\n       <use x=\"95.410156\" xlink:href=\"#DejaVuSans-35\"/>\n      </g>\n     </g>\n    </g>\n    <g id=\"xtick_9\">\n     <g id=\"line2d_9\">\n      <g>\n       <use style=\"stroke:#000000;stroke-width:0.8;\" x=\"299.936364\" xlink:href=\"#m77e94857dd\" y=\"239.758125\"/>\n      </g>\n     </g>\n     <g id=\"text_9\">\n      <!-- 4.0 -->\n      <g transform=\"translate(291.984801 254.356562)scale(0.1 -0.1)\">\n       <defs>\n        <path d=\"M 2419 4116 \nL 825 1625 \nL 2419 1625 \nL 2419 4116 \nz\nM 2253 4666 \nL 3047 4666 \nL 3047 1625 \nL 3713 1625 \nL 3713 1100 \nL 3047 1100 \nL 3047 0 \nL 2419 0 \nL 2419 1100 \nL 313 1100 \nL 313 1709 \nL 2253 4666 \nz\n\" id=\"DejaVuSans-34\" transform=\"scale(0.015625)\"/>\n       </defs>\n       <use xlink:href=\"#DejaVuSans-34\"/>\n       <use x=\"63.623047\" xlink:href=\"#DejaVuSans-2e\"/>\n       <use x=\"95.410156\" xlink:href=\"#DejaVuSans-30\"/>\n      </g>\n     </g>\n    </g>\n    <g id=\"text_10\">\n     <!-- particle diameter (mm) -->\n     <g transform=\"translate(114.773651 268.034687)scale(0.1 -0.1)\">\n      <defs>\n       <path d=\"M 1159 525 \nL 1159 -1331 \nL 581 -1331 \nL 581 3500 \nL 1159 3500 \nL 1159 2969 \nQ 1341 3281 1617 3432 \nQ 1894 3584 2278 3584 \nQ 2916 3584 3314 3078 \nQ 3713 2572 3713 1747 \nQ 3713 922 3314 415 \nQ 2916 -91 2278 -91 \nQ 1894 -91 1617 61 \nQ 1341 213 1159 525 \nz\nM 3116 1747 \nQ 3116 2381 2855 2742 \nQ 2594 3103 2138 3103 \nQ 1681 3103 1420 2742 \nQ 1159 2381 1159 1747 \nQ 1159 1113 1420 752 \nQ 1681 391 2138 391 \nQ 2594 391 2855 752 \nQ 3116 1113 3116 1747 \nz\n\" id=\"DejaVuSans-70\" transform=\"scale(0.015625)\"/>\n       <path d=\"M 2194 1759 \nQ 1497 1759 1228 1600 \nQ 959 1441 959 1056 \nQ 959 750 1161 570 \nQ 1363 391 1709 391 \nQ 2188 391 2477 730 \nQ 2766 1069 2766 1631 \nL 2766 1759 \nL 2194 1759 \nz\nM 3341 1997 \nL 3341 0 \nL 2766 0 \nL 2766 531 \nQ 2569 213 2275 61 \nQ 1981 -91 1556 -91 \nQ 1019 -91 701 211 \nQ 384 513 384 1019 \nQ 384 1609 779 1909 \nQ 1175 2209 1959 2209 \nL 2766 2209 \nL 2766 2266 \nQ 2766 2663 2505 2880 \nQ 2244 3097 1772 3097 \nQ 1472 3097 1187 3025 \nQ 903 2953 641 2809 \nL 641 3341 \nQ 956 3463 1253 3523 \nQ 1550 3584 1831 3584 \nQ 2591 3584 2966 3190 \nQ 3341 2797 3341 1997 \nz\n\" id=\"DejaVuSans-61\" transform=\"scale(0.015625)\"/>\n       <path d=\"M 2631 2963 \nQ 2534 3019 2420 3045 \nQ 2306 3072 2169 3072 \nQ 1681 3072 1420 2755 \nQ 1159 2438 1159 1844 \nL 1159 0 \nL 581 0 \nL 581 3500 \nL 1159 3500 \nL 1159 2956 \nQ 1341 3275 1631 3429 \nQ 1922 3584 2338 3584 \nQ 2397 3584 2469 3576 \nQ 2541 3569 2628 3553 \nL 2631 2963 \nz\n\" id=\"DejaVuSans-72\" transform=\"scale(0.015625)\"/>\n       <path d=\"M 1172 4494 \nL 1172 3500 \nL 2356 3500 \nL 2356 3053 \nL 1172 3053 \nL 1172 1153 \nQ 1172 725 1289 603 \nQ 1406 481 1766 481 \nL 2356 481 \nL 2356 0 \nL 1766 0 \nQ 1100 0 847 248 \nQ 594 497 594 1153 \nL 594 3053 \nL 172 3053 \nL 172 3500 \nL 594 3500 \nL 594 4494 \nL 1172 4494 \nz\n\" id=\"DejaVuSans-74\" transform=\"scale(0.015625)\"/>\n       <path d=\"M 603 3500 \nL 1178 3500 \nL 1178 0 \nL 603 0 \nL 603 3500 \nz\nM 603 4863 \nL 1178 4863 \nL 1178 4134 \nL 603 4134 \nL 603 4863 \nz\n\" id=\"DejaVuSans-69\" transform=\"scale(0.015625)\"/>\n       <path d=\"M 3122 3366 \nL 3122 2828 \nQ 2878 2963 2633 3030 \nQ 2388 3097 2138 3097 \nQ 1578 3097 1268 2742 \nQ 959 2388 959 1747 \nQ 959 1106 1268 751 \nQ 1578 397 2138 397 \nQ 2388 397 2633 464 \nQ 2878 531 3122 666 \nL 3122 134 \nQ 2881 22 2623 -34 \nQ 2366 -91 2075 -91 \nQ 1284 -91 818 406 \nQ 353 903 353 1747 \nQ 353 2603 823 3093 \nQ 1294 3584 2113 3584 \nQ 2378 3584 2631 3529 \nQ 2884 3475 3122 3366 \nz\n\" id=\"DejaVuSans-63\" transform=\"scale(0.015625)\"/>\n       <path d=\"M 603 4863 \nL 1178 4863 \nL 1178 0 \nL 603 0 \nL 603 4863 \nz\n\" id=\"DejaVuSans-6c\" transform=\"scale(0.015625)\"/>\n       <path d=\"M 3597 1894 \nL 3597 1613 \nL 953 1613 \nQ 991 1019 1311 708 \nQ 1631 397 2203 397 \nQ 2534 397 2845 478 \nQ 3156 559 3463 722 \nL 3463 178 \nQ 3153 47 2828 -22 \nQ 2503 -91 2169 -91 \nQ 1331 -91 842 396 \nQ 353 884 353 1716 \nQ 353 2575 817 3079 \nQ 1281 3584 2069 3584 \nQ 2775 3584 3186 3129 \nQ 3597 2675 3597 1894 \nz\nM 3022 2063 \nQ 3016 2534 2758 2815 \nQ 2500 3097 2075 3097 \nQ 1594 3097 1305 2825 \nQ 1016 2553 972 2059 \nL 3022 2063 \nz\n\" id=\"DejaVuSans-65\" transform=\"scale(0.015625)\"/>\n       <path id=\"DejaVuSans-20\" transform=\"scale(0.015625)\"/>\n       <path d=\"M 2906 2969 \nL 2906 4863 \nL 3481 4863 \nL 3481 0 \nL 2906 0 \nL 2906 525 \nQ 2725 213 2448 61 \nQ 2172 -91 1784 -91 \nQ 1150 -91 751 415 \nQ 353 922 353 1747 \nQ 353 2572 751 3078 \nQ 1150 3584 1784 3584 \nQ 2172 3584 2448 3432 \nQ 2725 3281 2906 2969 \nz\nM 947 1747 \nQ 947 1113 1208 752 \nQ 1469 391 1925 391 \nQ 2381 391 2643 752 \nQ 2906 1113 2906 1747 \nQ 2906 2381 2643 2742 \nQ 2381 3103 1925 3103 \nQ 1469 3103 1208 2742 \nQ 947 2381 947 1747 \nz\n\" id=\"DejaVuSans-64\" transform=\"scale(0.015625)\"/>\n       <path d=\"M 3328 2828 \nQ 3544 3216 3844 3400 \nQ 4144 3584 4550 3584 \nQ 5097 3584 5394 3201 \nQ 5691 2819 5691 2113 \nL 5691 0 \nL 5113 0 \nL 5113 2094 \nQ 5113 2597 4934 2840 \nQ 4756 3084 4391 3084 \nQ 3944 3084 3684 2787 \nQ 3425 2491 3425 1978 \nL 3425 0 \nL 2847 0 \nL 2847 2094 \nQ 2847 2600 2669 2842 \nQ 2491 3084 2119 3084 \nQ 1678 3084 1418 2786 \nQ 1159 2488 1159 1978 \nL 1159 0 \nL 581 0 \nL 581 3500 \nL 1159 3500 \nL 1159 2956 \nQ 1356 3278 1631 3431 \nQ 1906 3584 2284 3584 \nQ 2666 3584 2933 3390 \nQ 3200 3197 3328 2828 \nz\n\" id=\"DejaVuSans-6d\" transform=\"scale(0.015625)\"/>\n       <path d=\"M 1984 4856 \nQ 1566 4138 1362 3434 \nQ 1159 2731 1159 2009 \nQ 1159 1288 1364 580 \nQ 1569 -128 1984 -844 \nL 1484 -844 \nQ 1016 -109 783 600 \nQ 550 1309 550 2009 \nQ 550 2706 781 3412 \nQ 1013 4119 1484 4856 \nL 1984 4856 \nz\n\" id=\"DejaVuSans-28\" transform=\"scale(0.015625)\"/>\n       <path d=\"M 513 4856 \nL 1013 4856 \nQ 1481 4119 1714 3412 \nQ 1947 2706 1947 2009 \nQ 1947 1309 1714 600 \nQ 1481 -109 1013 -844 \nL 513 -844 \nQ 928 -128 1133 580 \nQ 1338 1288 1338 2009 \nQ 1338 2731 1133 3434 \nQ 928 4138 513 4856 \nz\n\" id=\"DejaVuSans-29\" transform=\"scale(0.015625)\"/>\n      </defs>\n      <use xlink:href=\"#DejaVuSans-70\"/>\n      <use x=\"63.476562\" xlink:href=\"#DejaVuSans-61\"/>\n      <use x=\"124.755859\" xlink:href=\"#DejaVuSans-72\"/>\n      <use x=\"165.869141\" xlink:href=\"#DejaVuSans-74\"/>\n      <use x=\"205.078125\" xlink:href=\"#DejaVuSans-69\"/>\n      <use x=\"232.861328\" xlink:href=\"#DejaVuSans-63\"/>\n      <use x=\"287.841797\" xlink:href=\"#DejaVuSans-6c\"/>\n      <use x=\"315.625\" xlink:href=\"#DejaVuSans-65\"/>\n      <use x=\"377.148438\" xlink:href=\"#DejaVuSans-20\"/>\n      <use x=\"408.935547\" xlink:href=\"#DejaVuSans-64\"/>\n      <use x=\"472.412109\" xlink:href=\"#DejaVuSans-69\"/>\n      <use x=\"500.195312\" xlink:href=\"#DejaVuSans-61\"/>\n      <use x=\"561.474609\" xlink:href=\"#DejaVuSans-6d\"/>\n      <use x=\"658.886719\" xlink:href=\"#DejaVuSans-65\"/>\n      <use x=\"720.410156\" xlink:href=\"#DejaVuSans-74\"/>\n      <use x=\"759.619141\" xlink:href=\"#DejaVuSans-65\"/>\n      <use x=\"821.142578\" xlink:href=\"#DejaVuSans-72\"/>\n      <use x=\"862.255859\" xlink:href=\"#DejaVuSans-20\"/>\n      <use x=\"894.042969\" xlink:href=\"#DejaVuSans-28\"/>\n      <use x=\"933.056641\" xlink:href=\"#DejaVuSans-6d\"/>\n      <use x=\"1030.46875\" xlink:href=\"#DejaVuSans-6d\"/>\n      <use x=\"1127.880859\" xlink:href=\"#DejaVuSans-29\"/>\n     </g>\n    </g>\n   </g>\n   <g id=\"matplotlib.axis_2\">\n    <g id=\"ytick_1\">\n     <g id=\"line2d_10\">\n      <defs>\n       <path d=\"M 0 0 \nL -3.5 0 \n\" id=\"mbdedd9c33c\" style=\"stroke:#000000;stroke-width:0.8;\"/>\n      </defs>\n      <g>\n       <use style=\"stroke:#000000;stroke-width:0.8;\" x=\"46.3\" xlink:href=\"#mbdedd9c33c\" y=\"239.758125\"/>\n      </g>\n     </g>\n     <g id=\"text_11\">\n      <!-- $\\mathdefault{10^{1}}$ -->\n      <g transform=\"translate(21.7 243.557344)scale(0.1 -0.1)\">\n       <use transform=\"translate(0 0.684375)\" xlink:href=\"#DejaVuSans-31\"/>\n       <use transform=\"translate(63.623047 0.684375)\" xlink:href=\"#DejaVuSans-30\"/>\n       <use transform=\"translate(128.203125 38.965625)scale(0.7)\" xlink:href=\"#DejaVuSans-31\"/>\n      </g>\n     </g>\n    </g>\n    <g id=\"ytick_2\">\n     <g id=\"line2d_11\">\n      <g>\n       <use style=\"stroke:#000000;stroke-width:0.8;\" x=\"46.3\" xlink:href=\"#mbdedd9c33c\" y=\"173.887775\"/>\n      </g>\n     </g>\n     <g id=\"text_12\">\n      <!-- $\\mathdefault{10^{2}}$ -->\n      <g transform=\"translate(21.7 177.686994)scale(0.1 -0.1)\">\n       <use transform=\"translate(0 0.765625)\" xlink:href=\"#DejaVuSans-31\"/>\n       <use transform=\"translate(63.623047 0.765625)\" xlink:href=\"#DejaVuSans-30\"/>\n       <use transform=\"translate(128.203125 39.046875)scale(0.7)\" xlink:href=\"#DejaVuSans-32\"/>\n      </g>\n     </g>\n    </g>\n    <g id=\"ytick_3\">\n     <g id=\"line2d_12\">\n      <g>\n       <use style=\"stroke:#000000;stroke-width:0.8;\" x=\"46.3\" xlink:href=\"#mbdedd9c33c\" y=\"108.017426\"/>\n      </g>\n     </g>\n     <g id=\"text_13\">\n      <!-- $\\mathdefault{10^{3}}$ -->\n      <g transform=\"translate(21.7 111.816644)scale(0.1 -0.1)\">\n       <use transform=\"translate(0 0.765625)\" xlink:href=\"#DejaVuSans-31\"/>\n       <use transform=\"translate(63.623047 0.765625)\" xlink:href=\"#DejaVuSans-30\"/>\n       <use transform=\"translate(128.203125 39.046875)scale(0.7)\" xlink:href=\"#DejaVuSans-33\"/>\n      </g>\n     </g>\n    </g>\n    <g id=\"ytick_4\">\n     <g id=\"line2d_13\">\n      <g>\n       <use style=\"stroke:#000000;stroke-width:0.8;\" x=\"46.3\" xlink:href=\"#mbdedd9c33c\" y=\"42.147076\"/>\n      </g>\n     </g>\n     <g id=\"text_14\">\n      <!-- $\\mathdefault{10^{4}}$ -->\n      <g transform=\"translate(21.7 45.946295)scale(0.1 -0.1)\">\n       <use transform=\"translate(0 0.684375)\" xlink:href=\"#DejaVuSans-31\"/>\n       <use transform=\"translate(63.623047 0.684375)\" xlink:href=\"#DejaVuSans-30\"/>\n       <use transform=\"translate(128.203125 38.965625)scale(0.7)\" xlink:href=\"#DejaVuSans-34\"/>\n      </g>\n     </g>\n    </g>\n    <g id=\"ytick_5\">\n     <g id=\"line2d_14\">\n      <defs>\n       <path d=\"M 0 0 \nL -2 0 \n\" id=\"mca65e2a9fb\" style=\"stroke:#000000;stroke-width:0.6;\"/>\n      </defs>\n      <g>\n       <use style=\"stroke:#000000;stroke-width:0.6;\" x=\"46.3\" xlink:href=\"#mca65e2a9fb\" y=\"219.929174\"/>\n      </g>\n     </g>\n    </g>\n    <g id=\"ytick_6\">\n     <g id=\"line2d_15\">\n      <g>\n       <use style=\"stroke:#000000;stroke-width:0.6;\" x=\"46.3\" xlink:href=\"#mca65e2a9fb\" y=\"208.329981\"/>\n      </g>\n     </g>\n    </g>\n    <g id=\"ytick_7\">\n     <g id=\"line2d_16\">\n      <g>\n       <use style=\"stroke:#000000;stroke-width:0.6;\" x=\"46.3\" xlink:href=\"#mca65e2a9fb\" y=\"200.100223\"/>\n      </g>\n     </g>\n    </g>\n    <g id=\"ytick_8\">\n     <g id=\"line2d_17\">\n      <g>\n       <use style=\"stroke:#000000;stroke-width:0.6;\" x=\"46.3\" xlink:href=\"#mca65e2a9fb\" y=\"193.716726\"/>\n      </g>\n     </g>\n    </g>\n    <g id=\"ytick_9\">\n     <g id=\"line2d_18\">\n      <g>\n       <use style=\"stroke:#000000;stroke-width:0.6;\" x=\"46.3\" xlink:href=\"#mca65e2a9fb\" y=\"188.50103\"/>\n      </g>\n     </g>\n    </g>\n    <g id=\"ytick_10\">\n     <g id=\"line2d_19\">\n      <g>\n       <use style=\"stroke:#000000;stroke-width:0.6;\" x=\"46.3\" xlink:href=\"#mca65e2a9fb\" y=\"184.091222\"/>\n      </g>\n     </g>\n    </g>\n    <g id=\"ytick_11\">\n     <g id=\"line2d_20\">\n      <g>\n       <use style=\"stroke:#000000;stroke-width:0.6;\" x=\"46.3\" xlink:href=\"#mca65e2a9fb\" y=\"180.271272\"/>\n      </g>\n     </g>\n    </g>\n    <g id=\"ytick_12\">\n     <g id=\"line2d_21\">\n      <g>\n       <use style=\"stroke:#000000;stroke-width:0.6;\" x=\"46.3\" xlink:href=\"#mca65e2a9fb\" y=\"176.901837\"/>\n      </g>\n     </g>\n    </g>\n    <g id=\"ytick_13\">\n     <g id=\"line2d_22\">\n      <g>\n       <use style=\"stroke:#000000;stroke-width:0.6;\" x=\"46.3\" xlink:href=\"#mca65e2a9fb\" y=\"154.058824\"/>\n      </g>\n     </g>\n    </g>\n    <g id=\"ytick_14\">\n     <g id=\"line2d_23\">\n      <g>\n       <use style=\"stroke:#000000;stroke-width:0.6;\" x=\"46.3\" xlink:href=\"#mca65e2a9fb\" y=\"142.459631\"/>\n      </g>\n     </g>\n    </g>\n    <g id=\"ytick_15\">\n     <g id=\"line2d_24\">\n      <g>\n       <use style=\"stroke:#000000;stroke-width:0.6;\" x=\"46.3\" xlink:href=\"#mca65e2a9fb\" y=\"134.229873\"/>\n      </g>\n     </g>\n    </g>\n    <g id=\"ytick_16\">\n     <g id=\"line2d_25\">\n      <g>\n       <use style=\"stroke:#000000;stroke-width:0.6;\" x=\"46.3\" xlink:href=\"#mca65e2a9fb\" y=\"127.846377\"/>\n      </g>\n     </g>\n    </g>\n    <g id=\"ytick_17\">\n     <g id=\"line2d_26\">\n      <g>\n       <use style=\"stroke:#000000;stroke-width:0.6;\" x=\"46.3\" xlink:href=\"#mca65e2a9fb\" y=\"122.63068\"/>\n      </g>\n     </g>\n    </g>\n    <g id=\"ytick_18\">\n     <g id=\"line2d_27\">\n      <g>\n       <use style=\"stroke:#000000;stroke-width:0.6;\" x=\"46.3\" xlink:href=\"#mca65e2a9fb\" y=\"118.220872\"/>\n      </g>\n     </g>\n    </g>\n    <g id=\"ytick_19\">\n     <g id=\"line2d_28\">\n      <g>\n       <use style=\"stroke:#000000;stroke-width:0.6;\" x=\"46.3\" xlink:href=\"#mca65e2a9fb\" y=\"114.400922\"/>\n      </g>\n     </g>\n    </g>\n    <g id=\"ytick_20\">\n     <g id=\"line2d_29\">\n      <g>\n       <use style=\"stroke:#000000;stroke-width:0.6;\" x=\"46.3\" xlink:href=\"#mca65e2a9fb\" y=\"111.031488\"/>\n      </g>\n     </g>\n    </g>\n    <g id=\"ytick_21\">\n     <g id=\"line2d_30\">\n      <g>\n       <use style=\"stroke:#000000;stroke-width:0.6;\" x=\"46.3\" xlink:href=\"#mca65e2a9fb\" y=\"88.188475\"/>\n      </g>\n     </g>\n    </g>\n    <g id=\"ytick_22\">\n     <g id=\"line2d_31\">\n      <g>\n       <use style=\"stroke:#000000;stroke-width:0.6;\" x=\"46.3\" xlink:href=\"#mca65e2a9fb\" y=\"76.589282\"/>\n      </g>\n     </g>\n    </g>\n    <g id=\"ytick_23\">\n     <g id=\"line2d_32\">\n      <g>\n       <use style=\"stroke:#000000;stroke-width:0.6;\" x=\"46.3\" xlink:href=\"#mca65e2a9fb\" y=\"68.359524\"/>\n      </g>\n     </g>\n    </g>\n    <g id=\"ytick_24\">\n     <g id=\"line2d_33\">\n      <g>\n       <use style=\"stroke:#000000;stroke-width:0.6;\" x=\"46.3\" xlink:href=\"#mca65e2a9fb\" y=\"61.976027\"/>\n      </g>\n     </g>\n    </g>\n    <g id=\"ytick_25\">\n     <g id=\"line2d_34\">\n      <g>\n       <use style=\"stroke:#000000;stroke-width:0.6;\" x=\"46.3\" xlink:href=\"#mca65e2a9fb\" y=\"56.760331\"/>\n      </g>\n     </g>\n    </g>\n    <g id=\"ytick_26\">\n     <g id=\"line2d_35\">\n      <g>\n       <use style=\"stroke:#000000;stroke-width:0.6;\" x=\"46.3\" xlink:href=\"#mca65e2a9fb\" y=\"52.350522\"/>\n      </g>\n     </g>\n    </g>\n    <g id=\"ytick_27\">\n     <g id=\"line2d_36\">\n      <g>\n       <use style=\"stroke:#000000;stroke-width:0.6;\" x=\"46.3\" xlink:href=\"#mca65e2a9fb\" y=\"48.530573\"/>\n      </g>\n     </g>\n    </g>\n    <g id=\"ytick_28\">\n     <g id=\"line2d_37\">\n      <g>\n       <use style=\"stroke:#000000;stroke-width:0.6;\" x=\"46.3\" xlink:href=\"#mca65e2a9fb\" y=\"45.161138\"/>\n      </g>\n     </g>\n    </g>\n    <g id=\"ytick_29\">\n     <g id=\"line2d_38\">\n      <g>\n       <use style=\"stroke:#000000;stroke-width:0.6;\" x=\"46.3\" xlink:href=\"#mca65e2a9fb\" y=\"22.318125\"/>\n      </g>\n     </g>\n    </g>\n    <g id=\"text_15\">\n     <!-- N(v) (m$^{-3}$ mm$^{-1})$ -->\n     <g transform=\"translate(15.620312 174.038125)rotate(-90)scale(0.1 -0.1)\">\n      <defs>\n       <path d=\"M 628 4666 \nL 1478 4666 \nL 3547 763 \nL 3547 4666 \nL 4159 4666 \nL 4159 0 \nL 3309 0 \nL 1241 3903 \nL 1241 0 \nL 628 0 \nL 628 4666 \nz\n\" id=\"DejaVuSans-4e\" transform=\"scale(0.015625)\"/>\n       <path d=\"M 191 3500 \nL 800 3500 \nL 1894 563 \nL 2988 3500 \nL 3597 3500 \nL 2284 0 \nL 1503 0 \nL 191 3500 \nz\n\" id=\"DejaVuSans-76\" transform=\"scale(0.015625)\"/>\n       <path d=\"M 678 2272 \nL 4684 2272 \nL 4684 1741 \nL 678 1741 \nL 678 2272 \nz\n\" id=\"DejaVuSans-2212\" transform=\"scale(0.015625)\"/>\n      </defs>\n      <use transform=\"translate(0 0.765625)\" xlink:href=\"#DejaVuSans-4e\"/>\n      <use transform=\"translate(74.804688 0.765625)\" xlink:href=\"#DejaVuSans-28\"/>\n      <use transform=\"translate(113.818359 0.765625)\" xlink:href=\"#DejaVuSans-76\"/>\n      <use transform=\"translate(172.998047 0.765625)\" xlink:href=\"#DejaVuSans-29\"/>\n      <use transform=\"translate(212.011719 0.765625)\" xlink:href=\"#DejaVuSans-20\"/>\n      <use transform=\"translate(243.798828 0.765625)\" xlink:href=\"#DejaVuSans-28\"/>\n      <use transform=\"translate(282.8125 0.765625)\" xlink:href=\"#DejaVuSans-6d\"/>\n      <use transform=\"translate(381.181641 39.046875)scale(0.7)\" xlink:href=\"#DejaVuSans-2212\"/>\n      <use transform=\"translate(439.833984 39.046875)scale(0.7)\" xlink:href=\"#DejaVuSans-33\"/>\n      <use transform=\"translate(487.104492 0.765625)\" xlink:href=\"#DejaVuSans-20\"/>\n      <use transform=\"translate(518.891602 0.765625)\" xlink:href=\"#DejaVuSans-6d\"/>\n      <use transform=\"translate(616.303711 0.765625)\" xlink:href=\"#DejaVuSans-6d\"/>\n      <use transform=\"translate(714.672852 39.046875)scale(0.7)\" xlink:href=\"#DejaVuSans-2212\"/>\n      <use transform=\"translate(773.325195 39.046875)scale(0.7)\" xlink:href=\"#DejaVuSans-31\"/>\n      <use transform=\"translate(820.595703 0.765625)\" xlink:href=\"#DejaVuSans-29\"/>\n     </g>\n    </g>\n   </g>\n   <g id=\"line2d_39\">\n    <path clip-path=\"url(#p460bbed91c)\" d=\"M 46.3 49.413843 \nL 49.470455 54.159878 \nL 52.640909 52.984089 \nL 55.811364 58.984917 \nL 58.981818 60.806281 \nL 62.152273 57.311711 \nL 65.322727 74.932555 \nL 68.493182 61.84415 \nL 71.663636 72.285168 \nL 74.834091 71.652529 \nL 78.004545 71.306086 \nL 81.175 91.071869 \nL 84.345455 71.396048 \nL 87.515909 91.566233 \nL 90.686364 91.927707 \nL 93.856818 72.857701 \nL 97.027273 93.682183 \nL 100.197727 94.511587 \nL 103.368182 95.474793 \nL 106.538636 96.579292 \nL 109.709091 97.832994 \nL 109.71775 278.314375 \nM 116.041408 278.314375 \nL 116.05 99.244253 \nL 119.220455 100.821885 \nL 122.390909 102.575205 \nL 125.561364 104.514046 \nL 125.569703 278.314375 \nM 131.894035 278.314375 \nL 131.902273 106.64879 \nL 135.072727 108.990401 \nL 135.080853 278.314375 \nM 141.405633 278.314375 \nL 141.413636 111.550455 \nL 141.421639 278.314375 \nM 147.746676 278.314375 \nL 147.754545 114.341175 \nL 147.762415 278.314375 \nM 154.08773 278.314375 \nL 154.095455 117.375467 \nL 154.103179 278.314375 \nM 160.428797 278.314375 \nL 160.436364 120.666958 \nL 160.44393 278.314375 \nM 166.769877 278.314375 \nL 166.777273 124.230036 \nL 166.784669 278.314375 \nM 173.11097 278.314375 \nL 173.118182 128.079893 \nL 173.125393 278.314375 \nM 179.452078 278.314375 \nL 179.459091 132.23257 \nL 179.466104 278.314375 \nM 185.793202 278.314375 \nL 185.8 136.705 \nL 185.806798 278.314375 \nM 195.304796 278.314375 \nL 195.311364 141.515067 \nL 195.317932 278.314375 \nM 201.645952 278.314375 \nL 201.652273 146.681647 \nL 201.658593 278.314375 \nM 211.157582 278.314375 \nL 211.163636 152.224673 \nL 211.169691 278.314375 \nM 220.66923 278.314375 \nL 220.675 158.165189 \nL 220.68077 278.314375 \nM 230.180898 278.314375 \nL 230.186364 164.525412 \nL 230.191829 278.314375 \nM 242.863043 278.314375 \nL 242.868182 171.328801 \nL 242.873321 278.314375 \nM 252.374755 278.314375 \nL 252.379545 178.600109 \nL 252.384336 278.314375 \nM 265.056946 278.314375 \nL 265.061364 186.365489 \nL 265.065781 278.314375 \nM 277.739162 278.314375 \nL 277.743182 194.652536 \nL 277.747202 278.314375 \nM 290.421404 278.314375 \nL 290.425 203.490387 \nL 290.428596 278.314375 \n\" style=\"fill:none;stroke:#1f77b4;stroke-dasharray:5.55,2.4;stroke-dashoffset:0;stroke-width:1.5;\"/>\n   </g>\n   <g id=\"line2d_40\">\n    <path clip-path=\"url(#p460bbed91c)\" d=\"M 46.3 48.530573 \nL 48.861983 50.581169 \nL 51.423967 52.631766 \nL 53.98595 54.682362 \nL 56.547934 56.732959 \nL 59.109917 58.783556 \nL 61.671901 60.834152 \nL 64.233884 62.884749 \nL 66.795868 64.935346 \nL 69.357851 66.985942 \nL 71.919835 69.036539 \nL 74.481818 71.087136 \nL 77.043802 73.137732 \nL 79.605785 75.188329 \nL 82.167769 77.238926 \nL 84.729752 79.289522 \nL 87.291736 81.340119 \nL 89.853719 83.390716 \nL 92.415702 85.441312 \nL 94.977686 87.491909 \nL 97.539669 89.542506 \nL 100.101653 91.593102 \nL 102.663636 93.643699 \nL 105.22562 95.694295 \nL 107.787603 97.744892 \nL 110.349587 99.795489 \nL 112.91157 101.846085 \nL 115.473554 103.896682 \nL 118.035537 105.947279 \nL 120.597521 107.997875 \nL 123.159504 110.048472 \nL 125.721488 112.099069 \nL 128.283471 114.149665 \nL 130.845455 116.200262 \nL 133.407438 118.250859 \nL 135.969421 120.301455 \nL 138.531405 122.352052 \nL 141.093388 124.402649 \nL 143.655372 126.453245 \nL 146.217355 128.503842 \nL 148.779339 130.554439 \nL 151.341322 132.605035 \nL 153.903306 134.655632 \nL 156.465289 136.706229 \nL 159.027273 138.756825 \nL 161.589256 140.807422 \nL 164.15124 142.858018 \nL 166.713223 144.908615 \nL 169.275207 146.959212 \nL 171.83719 149.009808 \nL 174.399174 151.060405 \nL 176.961157 153.111002 \nL 179.52314 155.161598 \nL 182.085124 157.212195 \nL 184.647107 159.262792 \nL 187.209091 161.313388 \nL 189.771074 163.363985 \nL 192.333058 165.414582 \nL 194.895041 167.465178 \nL 197.457025 169.515775 \nL 200.019008 171.566372 \nL 202.580992 173.616968 \nL 205.142975 175.667565 \nL 207.704959 177.718162 \nL 210.266942 179.768758 \nL 212.828926 181.819355 \nL 215.390909 183.869952 \nL 217.952893 185.920548 \nL 220.514876 187.971145 \nL 223.07686 190.021741 \nL 225.638843 192.072338 \nL 228.200826 194.122935 \nL 230.76281 196.173531 \nL 233.324793 198.224128 \nL 235.886777 200.274725 \nL 238.44876 202.325321 \nL 241.010744 204.375918 \nL 243.572727 206.426515 \nL 246.134711 208.477111 \nL 248.696694 210.527708 \nL 251.258678 212.578305 \nL 253.820661 214.628901 \nL 256.382645 216.679498 \nL 258.944628 218.730095 \nL 261.506612 220.780691 \nL 264.068595 222.831288 \nL 266.630579 224.881885 \nL 269.192562 226.932481 \nL 271.754545 228.983078 \nL 274.316529 231.033675 \nL 276.878512 233.084271 \nL 279.440496 235.134868 \nL 282.002479 237.185464 \nL 284.564463 239.236061 \nL 287.126446 241.286658 \nL 289.68843 243.337254 \nL 292.250413 245.387851 \nL 294.812397 247.438448 \nL 297.37438 249.489044 \nL 299.936364 251.539641 \n\" style=\"fill:none;stroke:#000000;stroke-linecap:square;stroke-width:1.5;\"/>\n   </g>\n   <g id=\"patch_3\">\n    <path d=\"M 46.3 239.758125 \nL 46.3 22.318125 \n\" style=\"fill:none;stroke:#000000;stroke-linecap:square;stroke-linejoin:miter;stroke-width:0.8;\"/>\n   </g>\n   <g id=\"patch_4\">\n    <path d=\"M 299.936364 239.758125 \nL 299.936364 22.318125 \n\" style=\"fill:none;stroke:#000000;stroke-linecap:square;stroke-linejoin:miter;stroke-width:0.8;\"/>\n   </g>\n   <g id=\"patch_5\">\n    <path d=\"M 46.3 239.758125 \nL 299.936364 239.758125 \n\" style=\"fill:none;stroke:#000000;stroke-linecap:square;stroke-linejoin:miter;stroke-width:0.8;\"/>\n   </g>\n   <g id=\"patch_6\">\n    <path d=\"M 46.3 22.318125 \nL 299.936364 22.318125 \n\" style=\"fill:none;stroke:#000000;stroke-linecap:square;stroke-linejoin:miter;stroke-width:0.8;\"/>\n   </g>\n   <g id=\"text_16\">\n    <!-- Initial Condition -->\n    <g transform=\"translate(125.976932 16.318125)scale(0.12 -0.12)\">\n     <defs>\n      <path d=\"M 628 4666 \nL 1259 4666 \nL 1259 0 \nL 628 0 \nL 628 4666 \nz\n\" id=\"DejaVuSans-49\" transform=\"scale(0.015625)\"/>\n      <path d=\"M 3513 2113 \nL 3513 0 \nL 2938 0 \nL 2938 2094 \nQ 2938 2591 2744 2837 \nQ 2550 3084 2163 3084 \nQ 1697 3084 1428 2787 \nQ 1159 2491 1159 1978 \nL 1159 0 \nL 581 0 \nL 581 3500 \nL 1159 3500 \nL 1159 2956 \nQ 1366 3272 1645 3428 \nQ 1925 3584 2291 3584 \nQ 2894 3584 3203 3211 \nQ 3513 2838 3513 2113 \nz\n\" id=\"DejaVuSans-6e\" transform=\"scale(0.015625)\"/>\n      <path d=\"M 4122 4306 \nL 4122 3641 \nQ 3803 3938 3442 4084 \nQ 3081 4231 2675 4231 \nQ 1875 4231 1450 3742 \nQ 1025 3253 1025 2328 \nQ 1025 1406 1450 917 \nQ 1875 428 2675 428 \nQ 3081 428 3442 575 \nQ 3803 722 4122 1019 \nL 4122 359 \nQ 3791 134 3420 21 \nQ 3050 -91 2638 -91 \nQ 1578 -91 968 557 \nQ 359 1206 359 2328 \nQ 359 3453 968 4101 \nQ 1578 4750 2638 4750 \nQ 3056 4750 3426 4639 \nQ 3797 4528 4122 4306 \nz\n\" id=\"DejaVuSans-43\" transform=\"scale(0.015625)\"/>\n      <path d=\"M 1959 3097 \nQ 1497 3097 1228 2736 \nQ 959 2375 959 1747 \nQ 959 1119 1226 758 \nQ 1494 397 1959 397 \nQ 2419 397 2687 759 \nQ 2956 1122 2956 1747 \nQ 2956 2369 2687 2733 \nQ 2419 3097 1959 3097 \nz\nM 1959 3584 \nQ 2709 3584 3137 3096 \nQ 3566 2609 3566 1747 \nQ 3566 888 3137 398 \nQ 2709 -91 1959 -91 \nQ 1206 -91 779 398 \nQ 353 888 353 1747 \nQ 353 2609 779 3096 \nQ 1206 3584 1959 3584 \nz\n\" id=\"DejaVuSans-6f\" transform=\"scale(0.015625)\"/>\n     </defs>\n     <use xlink:href=\"#DejaVuSans-49\"/>\n     <use x=\"29.492188\" xlink:href=\"#DejaVuSans-6e\"/>\n     <use x=\"92.871094\" xlink:href=\"#DejaVuSans-69\"/>\n     <use x=\"120.654297\" xlink:href=\"#DejaVuSans-74\"/>\n     <use x=\"159.863281\" xlink:href=\"#DejaVuSans-69\"/>\n     <use x=\"187.646484\" xlink:href=\"#DejaVuSans-61\"/>\n     <use x=\"248.925781\" xlink:href=\"#DejaVuSans-6c\"/>\n     <use x=\"276.708984\" xlink:href=\"#DejaVuSans-20\"/>\n     <use x=\"308.496094\" xlink:href=\"#DejaVuSans-43\"/>\n     <use x=\"378.320312\" xlink:href=\"#DejaVuSans-6f\"/>\n     <use x=\"439.501953\" xlink:href=\"#DejaVuSans-6e\"/>\n     <use x=\"502.880859\" xlink:href=\"#DejaVuSans-64\"/>\n     <use x=\"566.357422\" xlink:href=\"#DejaVuSans-69\"/>\n     <use x=\"594.140625\" xlink:href=\"#DejaVuSans-74\"/>\n     <use x=\"633.349609\" xlink:href=\"#DejaVuSans-69\"/>\n     <use x=\"661.132812\" xlink:href=\"#DejaVuSans-6f\"/>\n     <use x=\"722.314453\" xlink:href=\"#DejaVuSans-6e\"/>\n    </g>\n   </g>\n   <g id=\"legend_1\">\n    <g id=\"patch_7\">\n     <path d=\"M 210.583239 59.674375 \nL 292.936364 59.674375 \nQ 294.936364 59.674375 294.936364 57.674375 \nL 294.936364 29.318125 \nQ 294.936364 27.318125 292.936364 27.318125 \nL 210.583239 27.318125 \nQ 208.583239 27.318125 208.583239 29.318125 \nL 208.583239 57.674375 \nQ 208.583239 59.674375 210.583239 59.674375 \nz\n\" style=\"fill:#ffffff;opacity:0.8;stroke:#cccccc;stroke-linejoin:miter;\"/>\n    </g>\n    <g id=\"line2d_41\">\n     <path d=\"M 212.583239 35.416562 \nL 232.583239 35.416562 \n\" style=\"fill:none;stroke:#1f77b4;stroke-dasharray:5.55,2.4;stroke-dashoffset:0;stroke-width:1.5;\"/>\n    </g>\n    <g id=\"line2d_42\"/>\n    <g id=\"text_17\">\n     <!-- 256 SDs -->\n     <g transform=\"translate(240.583239 38.916562)scale(0.1 -0.1)\">\n      <defs>\n       <path d=\"M 2113 2584 \nQ 1688 2584 1439 2293 \nQ 1191 2003 1191 1497 \nQ 1191 994 1439 701 \nQ 1688 409 2113 409 \nQ 2538 409 2786 701 \nQ 3034 994 3034 1497 \nQ 3034 2003 2786 2293 \nQ 2538 2584 2113 2584 \nz\nM 3366 4563 \nL 3366 3988 \nQ 3128 4100 2886 4159 \nQ 2644 4219 2406 4219 \nQ 1781 4219 1451 3797 \nQ 1122 3375 1075 2522 \nQ 1259 2794 1537 2939 \nQ 1816 3084 2150 3084 \nQ 2853 3084 3261 2657 \nQ 3669 2231 3669 1497 \nQ 3669 778 3244 343 \nQ 2819 -91 2113 -91 \nQ 1303 -91 875 529 \nQ 447 1150 447 2328 \nQ 447 3434 972 4092 \nQ 1497 4750 2381 4750 \nQ 2619 4750 2861 4703 \nQ 3103 4656 3366 4563 \nz\n\" id=\"DejaVuSans-36\" transform=\"scale(0.015625)\"/>\n       <path d=\"M 3425 4513 \nL 3425 3897 \nQ 3066 4069 2747 4153 \nQ 2428 4238 2131 4238 \nQ 1616 4238 1336 4038 \nQ 1056 3838 1056 3469 \nQ 1056 3159 1242 3001 \nQ 1428 2844 1947 2747 \nL 2328 2669 \nQ 3034 2534 3370 2195 \nQ 3706 1856 3706 1288 \nQ 3706 609 3251 259 \nQ 2797 -91 1919 -91 \nQ 1588 -91 1214 -16 \nQ 841 59 441 206 \nL 441 856 \nQ 825 641 1194 531 \nQ 1563 422 1919 422 \nQ 2459 422 2753 634 \nQ 3047 847 3047 1241 \nQ 3047 1584 2836 1778 \nQ 2625 1972 2144 2069 \nL 1759 2144 \nQ 1053 2284 737 2584 \nQ 422 2884 422 3419 \nQ 422 4038 858 4394 \nQ 1294 4750 2059 4750 \nQ 2388 4750 2728 4690 \nQ 3069 4631 3425 4513 \nz\n\" id=\"DejaVuSans-53\" transform=\"scale(0.015625)\"/>\n       <path d=\"M 1259 4147 \nL 1259 519 \nL 2022 519 \nQ 2988 519 3436 956 \nQ 3884 1394 3884 2338 \nQ 3884 3275 3436 3711 \nQ 2988 4147 2022 4147 \nL 1259 4147 \nz\nM 628 4666 \nL 1925 4666 \nQ 3281 4666 3915 4102 \nQ 4550 3538 4550 2338 \nQ 4550 1131 3912 565 \nQ 3275 0 1925 0 \nL 628 0 \nL 628 4666 \nz\n\" id=\"DejaVuSans-44\" transform=\"scale(0.015625)\"/>\n       <path d=\"M 2834 3397 \nL 2834 2853 \nQ 2591 2978 2328 3040 \nQ 2066 3103 1784 3103 \nQ 1356 3103 1142 2972 \nQ 928 2841 928 2578 \nQ 928 2378 1081 2264 \nQ 1234 2150 1697 2047 \nL 1894 2003 \nQ 2506 1872 2764 1633 \nQ 3022 1394 3022 966 \nQ 3022 478 2636 193 \nQ 2250 -91 1575 -91 \nQ 1294 -91 989 -36 \nQ 684 19 347 128 \nL 347 722 \nQ 666 556 975 473 \nQ 1284 391 1588 391 \nQ 1994 391 2212 530 \nQ 2431 669 2431 922 \nQ 2431 1156 2273 1281 \nQ 2116 1406 1581 1522 \nL 1381 1569 \nQ 847 1681 609 1914 \nQ 372 2147 372 2553 \nQ 372 3047 722 3315 \nQ 1072 3584 1716 3584 \nQ 2034 3584 2315 3537 \nQ 2597 3491 2834 3397 \nz\n\" id=\"DejaVuSans-73\" transform=\"scale(0.015625)\"/>\n      </defs>\n      <use xlink:href=\"#DejaVuSans-32\"/>\n      <use x=\"63.623047\" xlink:href=\"#DejaVuSans-35\"/>\n      <use x=\"127.246094\" xlink:href=\"#DejaVuSans-36\"/>\n      <use x=\"190.869141\" xlink:href=\"#DejaVuSans-20\"/>\n      <use x=\"222.65625\" xlink:href=\"#DejaVuSans-53\"/>\n      <use x=\"286.132812\" xlink:href=\"#DejaVuSans-44\"/>\n      <use x=\"363.134766\" xlink:href=\"#DejaVuSans-73\"/>\n     </g>\n    </g>\n    <g id=\"line2d_43\">\n     <path d=\"M 212.583239 50.094687 \nL 232.583239 50.094687 \n\" style=\"fill:none;stroke:#000000;stroke-linecap:square;stroke-width:1.5;\"/>\n    </g>\n    <g id=\"line2d_44\"/>\n    <g id=\"text_18\">\n     <!-- Reference -->\n     <g transform=\"translate(240.583239 53.594687)scale(0.1 -0.1)\">\n      <defs>\n       <path d=\"M 2841 2188 \nQ 3044 2119 3236 1894 \nQ 3428 1669 3622 1275 \nL 4263 0 \nL 3584 0 \nL 2988 1197 \nQ 2756 1666 2539 1819 \nQ 2322 1972 1947 1972 \nL 1259 1972 \nL 1259 0 \nL 628 0 \nL 628 4666 \nL 2053 4666 \nQ 2853 4666 3247 4331 \nQ 3641 3997 3641 3322 \nQ 3641 2881 3436 2590 \nQ 3231 2300 2841 2188 \nz\nM 1259 4147 \nL 1259 2491 \nL 2053 2491 \nQ 2509 2491 2742 2702 \nQ 2975 2913 2975 3322 \nQ 2975 3731 2742 3939 \nQ 2509 4147 2053 4147 \nL 1259 4147 \nz\n\" id=\"DejaVuSans-52\" transform=\"scale(0.015625)\"/>\n       <path d=\"M 2375 4863 \nL 2375 4384 \nL 1825 4384 \nQ 1516 4384 1395 4259 \nQ 1275 4134 1275 3809 \nL 1275 3500 \nL 2222 3500 \nL 2222 3053 \nL 1275 3053 \nL 1275 0 \nL 697 0 \nL 697 3053 \nL 147 3053 \nL 147 3500 \nL 697 3500 \nL 697 3744 \nQ 697 4328 969 4595 \nQ 1241 4863 1831 4863 \nL 2375 4863 \nz\n\" id=\"DejaVuSans-66\" transform=\"scale(0.015625)\"/>\n      </defs>\n      <use xlink:href=\"#DejaVuSans-52\"/>\n      <use x=\"64.982422\" xlink:href=\"#DejaVuSans-65\"/>\n      <use x=\"126.505859\" xlink:href=\"#DejaVuSans-66\"/>\n      <use x=\"161.710938\" xlink:href=\"#DejaVuSans-65\"/>\n      <use x=\"223.234375\" xlink:href=\"#DejaVuSans-72\"/>\n      <use x=\"262.097656\" xlink:href=\"#DejaVuSans-65\"/>\n      <use x=\"323.621094\" xlink:href=\"#DejaVuSans-6e\"/>\n      <use x=\"387\" xlink:href=\"#DejaVuSans-63\"/>\n      <use x=\"441.980469\" xlink:href=\"#DejaVuSans-65\"/>\n     </g>\n    </g>\n   </g>\n  </g>\n  <g id=\"axes_2\">\n   <g id=\"patch_8\">\n    <path d=\"M 350.663636 239.758125 \nL 604.3 239.758125 \nL 604.3 22.318125 \nL 350.663636 22.318125 \nz\n\" style=\"fill:#ffffff;\"/>\n   </g>\n   <g id=\"matplotlib.axis_3\">\n    <g id=\"xtick_10\">\n     <g id=\"line2d_45\">\n      <g>\n       <use style=\"stroke:#000000;stroke-width:0.8;\" x=\"350.663636\" xlink:href=\"#m77e94857dd\" y=\"239.758125\"/>\n      </g>\n     </g>\n     <g id=\"text_19\">\n      <!-- 0.0 -->\n      <g transform=\"translate(342.712074 254.356562)scale(0.1 -0.1)\">\n       <use xlink:href=\"#DejaVuSans-30\"/>\n       <use x=\"63.623047\" xlink:href=\"#DejaVuSans-2e\"/>\n       <use x=\"95.410156\" xlink:href=\"#DejaVuSans-30\"/>\n      </g>\n     </g>\n    </g>\n    <g id=\"xtick_11\">\n     <g id=\"line2d_46\">\n      <g>\n       <use style=\"stroke:#000000;stroke-width:0.8;\" x=\"382.368182\" xlink:href=\"#m77e94857dd\" y=\"239.758125\"/>\n      </g>\n     </g>\n     <g id=\"text_20\">\n      <!-- 0.5 -->\n      <g transform=\"translate(374.416619 254.356562)scale(0.1 -0.1)\">\n       <use xlink:href=\"#DejaVuSans-30\"/>\n       <use x=\"63.623047\" xlink:href=\"#DejaVuSans-2e\"/>\n       <use x=\"95.410156\" xlink:href=\"#DejaVuSans-35\"/>\n      </g>\n     </g>\n    </g>\n    <g id=\"xtick_12\">\n     <g id=\"line2d_47\">\n      <g>\n       <use style=\"stroke:#000000;stroke-width:0.8;\" x=\"414.072727\" xlink:href=\"#m77e94857dd\" y=\"239.758125\"/>\n      </g>\n     </g>\n     <g id=\"text_21\">\n      <!-- 1.0 -->\n      <g transform=\"translate(406.121165 254.356562)scale(0.1 -0.1)\">\n       <use xlink:href=\"#DejaVuSans-31\"/>\n       <use x=\"63.623047\" xlink:href=\"#DejaVuSans-2e\"/>\n       <use x=\"95.410156\" xlink:href=\"#DejaVuSans-30\"/>\n      </g>\n     </g>\n    </g>\n    <g id=\"xtick_13\">\n     <g id=\"line2d_48\">\n      <g>\n       <use style=\"stroke:#000000;stroke-width:0.8;\" x=\"445.777273\" xlink:href=\"#m77e94857dd\" y=\"239.758125\"/>\n      </g>\n     </g>\n     <g id=\"text_22\">\n      <!-- 1.5 -->\n      <g transform=\"translate(437.82571 254.356562)scale(0.1 -0.1)\">\n       <use xlink:href=\"#DejaVuSans-31\"/>\n       <use x=\"63.623047\" xlink:href=\"#DejaVuSans-2e\"/>\n       <use x=\"95.410156\" xlink:href=\"#DejaVuSans-35\"/>\n      </g>\n     </g>\n    </g>\n    <g id=\"xtick_14\">\n     <g id=\"line2d_49\">\n      <g>\n       <use style=\"stroke:#000000;stroke-width:0.8;\" x=\"477.481818\" xlink:href=\"#m77e94857dd\" y=\"239.758125\"/>\n      </g>\n     </g>\n     <g id=\"text_23\">\n      <!-- 2.0 -->\n      <g transform=\"translate(469.530256 254.356562)scale(0.1 -0.1)\">\n       <use xlink:href=\"#DejaVuSans-32\"/>\n       <use x=\"63.623047\" xlink:href=\"#DejaVuSans-2e\"/>\n       <use x=\"95.410156\" xlink:href=\"#DejaVuSans-30\"/>\n      </g>\n     </g>\n    </g>\n    <g id=\"xtick_15\">\n     <g id=\"line2d_50\">\n      <g>\n       <use style=\"stroke:#000000;stroke-width:0.8;\" x=\"509.186364\" xlink:href=\"#m77e94857dd\" y=\"239.758125\"/>\n      </g>\n     </g>\n     <g id=\"text_24\">\n      <!-- 2.5 -->\n      <g transform=\"translate(501.234801 254.356562)scale(0.1 -0.1)\">\n       <use xlink:href=\"#DejaVuSans-32\"/>\n       <use x=\"63.623047\" xlink:href=\"#DejaVuSans-2e\"/>\n       <use x=\"95.410156\" xlink:href=\"#DejaVuSans-35\"/>\n      </g>\n     </g>\n    </g>\n    <g id=\"xtick_16\">\n     <g id=\"line2d_51\">\n      <g>\n       <use style=\"stroke:#000000;stroke-width:0.8;\" x=\"540.890909\" xlink:href=\"#m77e94857dd\" y=\"239.758125\"/>\n      </g>\n     </g>\n     <g id=\"text_25\">\n      <!-- 3.0 -->\n      <g transform=\"translate(532.939347 254.356562)scale(0.1 -0.1)\">\n       <use xlink:href=\"#DejaVuSans-33\"/>\n       <use x=\"63.623047\" xlink:href=\"#DejaVuSans-2e\"/>\n       <use x=\"95.410156\" xlink:href=\"#DejaVuSans-30\"/>\n      </g>\n     </g>\n    </g>\n    <g id=\"xtick_17\">\n     <g id=\"line2d_52\">\n      <g>\n       <use style=\"stroke:#000000;stroke-width:0.8;\" x=\"572.595455\" xlink:href=\"#m77e94857dd\" y=\"239.758125\"/>\n      </g>\n     </g>\n     <g id=\"text_26\">\n      <!-- 3.5 -->\n      <g transform=\"translate(564.643892 254.356562)scale(0.1 -0.1)\">\n       <use xlink:href=\"#DejaVuSans-33\"/>\n       <use x=\"63.623047\" xlink:href=\"#DejaVuSans-2e\"/>\n       <use x=\"95.410156\" xlink:href=\"#DejaVuSans-35\"/>\n      </g>\n     </g>\n    </g>\n    <g id=\"xtick_18\">\n     <g id=\"line2d_53\">\n      <g>\n       <use style=\"stroke:#000000;stroke-width:0.8;\" x=\"604.3\" xlink:href=\"#m77e94857dd\" y=\"239.758125\"/>\n      </g>\n     </g>\n     <g id=\"text_27\">\n      <!-- 4.0 -->\n      <g transform=\"translate(596.348437 254.356562)scale(0.1 -0.1)\">\n       <use xlink:href=\"#DejaVuSans-34\"/>\n       <use x=\"63.623047\" xlink:href=\"#DejaVuSans-2e\"/>\n       <use x=\"95.410156\" xlink:href=\"#DejaVuSans-30\"/>\n      </g>\n     </g>\n    </g>\n    <g id=\"text_28\">\n     <!-- particle diameter (mm) -->\n     <g transform=\"translate(419.137287 268.034687)scale(0.1 -0.1)\">\n      <use xlink:href=\"#DejaVuSans-70\"/>\n      <use x=\"63.476562\" xlink:href=\"#DejaVuSans-61\"/>\n      <use x=\"124.755859\" xlink:href=\"#DejaVuSans-72\"/>\n      <use x=\"165.869141\" xlink:href=\"#DejaVuSans-74\"/>\n      <use x=\"205.078125\" xlink:href=\"#DejaVuSans-69\"/>\n      <use x=\"232.861328\" xlink:href=\"#DejaVuSans-63\"/>\n      <use x=\"287.841797\" xlink:href=\"#DejaVuSans-6c\"/>\n      <use x=\"315.625\" xlink:href=\"#DejaVuSans-65\"/>\n      <use x=\"377.148438\" xlink:href=\"#DejaVuSans-20\"/>\n      <use x=\"408.935547\" xlink:href=\"#DejaVuSans-64\"/>\n      <use x=\"472.412109\" xlink:href=\"#DejaVuSans-69\"/>\n      <use x=\"500.195312\" xlink:href=\"#DejaVuSans-61\"/>\n      <use x=\"561.474609\" xlink:href=\"#DejaVuSans-6d\"/>\n      <use x=\"658.886719\" xlink:href=\"#DejaVuSans-65\"/>\n      <use x=\"720.410156\" xlink:href=\"#DejaVuSans-74\"/>\n      <use x=\"759.619141\" xlink:href=\"#DejaVuSans-65\"/>\n      <use x=\"821.142578\" xlink:href=\"#DejaVuSans-72\"/>\n      <use x=\"862.255859\" xlink:href=\"#DejaVuSans-20\"/>\n      <use x=\"894.042969\" xlink:href=\"#DejaVuSans-28\"/>\n      <use x=\"933.056641\" xlink:href=\"#DejaVuSans-6d\"/>\n      <use x=\"1030.46875\" xlink:href=\"#DejaVuSans-6d\"/>\n      <use x=\"1127.880859\" xlink:href=\"#DejaVuSans-29\"/>\n     </g>\n    </g>\n   </g>\n   <g id=\"matplotlib.axis_4\">\n    <g id=\"ytick_30\">\n     <g id=\"line2d_54\">\n      <g>\n       <use style=\"stroke:#000000;stroke-width:0.8;\" x=\"350.663636\" xlink:href=\"#mbdedd9c33c\" y=\"239.758125\"/>\n      </g>\n     </g>\n    </g>\n    <g id=\"ytick_31\">\n     <g id=\"line2d_55\">\n      <g>\n       <use style=\"stroke:#000000;stroke-width:0.8;\" x=\"350.663636\" xlink:href=\"#mbdedd9c33c\" y=\"173.887775\"/>\n      </g>\n     </g>\n    </g>\n    <g id=\"ytick_32\">\n     <g id=\"line2d_56\">\n      <g>\n       <use style=\"stroke:#000000;stroke-width:0.8;\" x=\"350.663636\" xlink:href=\"#mbdedd9c33c\" y=\"108.017426\"/>\n      </g>\n     </g>\n    </g>\n    <g id=\"ytick_33\">\n     <g id=\"line2d_57\">\n      <g>\n       <use style=\"stroke:#000000;stroke-width:0.8;\" x=\"350.663636\" xlink:href=\"#mbdedd9c33c\" y=\"42.147076\"/>\n      </g>\n     </g>\n    </g>\n    <g id=\"ytick_34\">\n     <g id=\"line2d_58\">\n      <g>\n       <use style=\"stroke:#000000;stroke-width:0.6;\" x=\"350.663636\" xlink:href=\"#mca65e2a9fb\" y=\"219.929174\"/>\n      </g>\n     </g>\n    </g>\n    <g id=\"ytick_35\">\n     <g id=\"line2d_59\">\n      <g>\n       <use style=\"stroke:#000000;stroke-width:0.6;\" x=\"350.663636\" xlink:href=\"#mca65e2a9fb\" y=\"208.329981\"/>\n      </g>\n     </g>\n    </g>\n    <g id=\"ytick_36\">\n     <g id=\"line2d_60\">\n      <g>\n       <use style=\"stroke:#000000;stroke-width:0.6;\" x=\"350.663636\" xlink:href=\"#mca65e2a9fb\" y=\"200.100223\"/>\n      </g>\n     </g>\n    </g>\n    <g id=\"ytick_37\">\n     <g id=\"line2d_61\">\n      <g>\n       <use style=\"stroke:#000000;stroke-width:0.6;\" x=\"350.663636\" xlink:href=\"#mca65e2a9fb\" y=\"193.716726\"/>\n      </g>\n     </g>\n    </g>\n    <g id=\"ytick_38\">\n     <g id=\"line2d_62\">\n      <g>\n       <use style=\"stroke:#000000;stroke-width:0.6;\" x=\"350.663636\" xlink:href=\"#mca65e2a9fb\" y=\"188.50103\"/>\n      </g>\n     </g>\n    </g>\n    <g id=\"ytick_39\">\n     <g id=\"line2d_63\">\n      <g>\n       <use style=\"stroke:#000000;stroke-width:0.6;\" x=\"350.663636\" xlink:href=\"#mca65e2a9fb\" y=\"184.091222\"/>\n      </g>\n     </g>\n    </g>\n    <g id=\"ytick_40\">\n     <g id=\"line2d_64\">\n      <g>\n       <use style=\"stroke:#000000;stroke-width:0.6;\" x=\"350.663636\" xlink:href=\"#mca65e2a9fb\" y=\"180.271272\"/>\n      </g>\n     </g>\n    </g>\n    <g id=\"ytick_41\">\n     <g id=\"line2d_65\">\n      <g>\n       <use style=\"stroke:#000000;stroke-width:0.6;\" x=\"350.663636\" xlink:href=\"#mca65e2a9fb\" y=\"176.901837\"/>\n      </g>\n     </g>\n    </g>\n    <g id=\"ytick_42\">\n     <g id=\"line2d_66\">\n      <g>\n       <use style=\"stroke:#000000;stroke-width:0.6;\" x=\"350.663636\" xlink:href=\"#mca65e2a9fb\" y=\"154.058824\"/>\n      </g>\n     </g>\n    </g>\n    <g id=\"ytick_43\">\n     <g id=\"line2d_67\">\n      <g>\n       <use style=\"stroke:#000000;stroke-width:0.6;\" x=\"350.663636\" xlink:href=\"#mca65e2a9fb\" y=\"142.459631\"/>\n      </g>\n     </g>\n    </g>\n    <g id=\"ytick_44\">\n     <g id=\"line2d_68\">\n      <g>\n       <use style=\"stroke:#000000;stroke-width:0.6;\" x=\"350.663636\" xlink:href=\"#mca65e2a9fb\" y=\"134.229873\"/>\n      </g>\n     </g>\n    </g>\n    <g id=\"ytick_45\">\n     <g id=\"line2d_69\">\n      <g>\n       <use style=\"stroke:#000000;stroke-width:0.6;\" x=\"350.663636\" xlink:href=\"#mca65e2a9fb\" y=\"127.846377\"/>\n      </g>\n     </g>\n    </g>\n    <g id=\"ytick_46\">\n     <g id=\"line2d_70\">\n      <g>\n       <use style=\"stroke:#000000;stroke-width:0.6;\" x=\"350.663636\" xlink:href=\"#mca65e2a9fb\" y=\"122.63068\"/>\n      </g>\n     </g>\n    </g>\n    <g id=\"ytick_47\">\n     <g id=\"line2d_71\">\n      <g>\n       <use style=\"stroke:#000000;stroke-width:0.6;\" x=\"350.663636\" xlink:href=\"#mca65e2a9fb\" y=\"118.220872\"/>\n      </g>\n     </g>\n    </g>\n    <g id=\"ytick_48\">\n     <g id=\"line2d_72\">\n      <g>\n       <use style=\"stroke:#000000;stroke-width:0.6;\" x=\"350.663636\" xlink:href=\"#mca65e2a9fb\" y=\"114.400922\"/>\n      </g>\n     </g>\n    </g>\n    <g id=\"ytick_49\">\n     <g id=\"line2d_73\">\n      <g>\n       <use style=\"stroke:#000000;stroke-width:0.6;\" x=\"350.663636\" xlink:href=\"#mca65e2a9fb\" y=\"111.031488\"/>\n      </g>\n     </g>\n    </g>\n    <g id=\"ytick_50\">\n     <g id=\"line2d_74\">\n      <g>\n       <use style=\"stroke:#000000;stroke-width:0.6;\" x=\"350.663636\" xlink:href=\"#mca65e2a9fb\" y=\"88.188475\"/>\n      </g>\n     </g>\n    </g>\n    <g id=\"ytick_51\">\n     <g id=\"line2d_75\">\n      <g>\n       <use style=\"stroke:#000000;stroke-width:0.6;\" x=\"350.663636\" xlink:href=\"#mca65e2a9fb\" y=\"76.589282\"/>\n      </g>\n     </g>\n    </g>\n    <g id=\"ytick_52\">\n     <g id=\"line2d_76\">\n      <g>\n       <use style=\"stroke:#000000;stroke-width:0.6;\" x=\"350.663636\" xlink:href=\"#mca65e2a9fb\" y=\"68.359524\"/>\n      </g>\n     </g>\n    </g>\n    <g id=\"ytick_53\">\n     <g id=\"line2d_77\">\n      <g>\n       <use style=\"stroke:#000000;stroke-width:0.6;\" x=\"350.663636\" xlink:href=\"#mca65e2a9fb\" y=\"61.976027\"/>\n      </g>\n     </g>\n    </g>\n    <g id=\"ytick_54\">\n     <g id=\"line2d_78\">\n      <g>\n       <use style=\"stroke:#000000;stroke-width:0.6;\" x=\"350.663636\" xlink:href=\"#mca65e2a9fb\" y=\"56.760331\"/>\n      </g>\n     </g>\n    </g>\n    <g id=\"ytick_55\">\n     <g id=\"line2d_79\">\n      <g>\n       <use style=\"stroke:#000000;stroke-width:0.6;\" x=\"350.663636\" xlink:href=\"#mca65e2a9fb\" y=\"52.350522\"/>\n      </g>\n     </g>\n    </g>\n    <g id=\"ytick_56\">\n     <g id=\"line2d_80\">\n      <g>\n       <use style=\"stroke:#000000;stroke-width:0.6;\" x=\"350.663636\" xlink:href=\"#mca65e2a9fb\" y=\"48.530573\"/>\n      </g>\n     </g>\n    </g>\n    <g id=\"ytick_57\">\n     <g id=\"line2d_81\">\n      <g>\n       <use style=\"stroke:#000000;stroke-width:0.6;\" x=\"350.663636\" xlink:href=\"#mca65e2a9fb\" y=\"45.161138\"/>\n      </g>\n     </g>\n    </g>\n    <g id=\"ytick_58\">\n     <g id=\"line2d_82\">\n      <g>\n       <use style=\"stroke:#000000;stroke-width:0.6;\" x=\"350.663636\" xlink:href=\"#mca65e2a9fb\" y=\"22.318125\"/>\n      </g>\n     </g>\n    </g>\n   </g>\n   <g id=\"line2d_83\">\n    <path clip-path=\"url(#pe41ca94718)\" d=\"M 356.36333 236.082345 \nL 356.125843 239.547384 \nL 356.838304 230.300925 \nL 357.550766 218.933848 \nL 358.263228 206.169659 \nL 359.688151 186.307806 \nL 361.113075 163.39114 \nL 363.012972 133.89282 \nL 364.91287 104.795517 \nL 367.287743 78.151654 \nL 370.612564 52.055398 \nL 373.699898 45.076339 \nL 377.262206 52.055398 \nL 381.062002 66.223644 \nL 386.049234 86.356086 \nL 393.886313 114.801737 \nL 402.435853 139.29176 \nL 410.510419 154.49138 \nL 418.584985 165.644787 \nL 427.609499 170.908929 \nL 437.583963 172.193738 \nL 453.258121 171.766835 \nL 468.932278 173.887775 \nL 482.231563 178.436304 \nL 497.90572 186.307806 \nL 512.154954 194.582482 \nL 528.304086 204.729712 \nL 542.078345 214.096006 \nL 554.902656 222.460117 \nL 564.87712 228.597661 \nL 575.326558 235.18806 \nL 582.213687 239.335968 \n\" style=\"fill:none;stroke:#000000;stroke-linecap:square;stroke-width:1.5;\"/>\n   </g>\n   <g id=\"patch_9\">\n    <path d=\"M 350.663636 239.758125 \nL 350.663636 22.318125 \n\" style=\"fill:none;stroke:#000000;stroke-linecap:square;stroke-linejoin:miter;stroke-width:0.8;\"/>\n   </g>\n   <g id=\"patch_10\">\n    <path d=\"M 604.3 239.758125 \nL 604.3 22.318125 \n\" style=\"fill:none;stroke:#000000;stroke-linecap:square;stroke-linejoin:miter;stroke-width:0.8;\"/>\n   </g>\n   <g id=\"patch_11\">\n    <path d=\"M 350.663636 239.758125 \nL 604.3 239.758125 \n\" style=\"fill:none;stroke:#000000;stroke-linecap:square;stroke-linejoin:miter;stroke-width:0.8;\"/>\n   </g>\n   <g id=\"patch_12\">\n    <path d=\"M 350.663636 22.318125 \nL 604.3 22.318125 \n\" style=\"fill:none;stroke:#000000;stroke-linecap:square;stroke-linejoin:miter;stroke-width:0.8;\"/>\n   </g>\n   <g id=\"text_29\">\n    <!-- Steady State: Straub 2010 -->\n    <g transform=\"translate(397.781193 16.318125)scale(0.12 -0.12)\">\n     <defs>\n      <path d=\"M 2059 -325 \nQ 1816 -950 1584 -1140 \nQ 1353 -1331 966 -1331 \nL 506 -1331 \nL 506 -850 \nL 844 -850 \nQ 1081 -850 1212 -737 \nQ 1344 -625 1503 -206 \nL 1606 56 \nL 191 3500 \nL 800 3500 \nL 1894 763 \nL 2988 3500 \nL 3597 3500 \nL 2059 -325 \nz\n\" id=\"DejaVuSans-79\" transform=\"scale(0.015625)\"/>\n      <path d=\"M 750 794 \nL 1409 794 \nL 1409 0 \nL 750 0 \nL 750 794 \nz\nM 750 3309 \nL 1409 3309 \nL 1409 2516 \nL 750 2516 \nL 750 3309 \nz\n\" id=\"DejaVuSans-3a\" transform=\"scale(0.015625)\"/>\n      <path d=\"M 544 1381 \nL 544 3500 \nL 1119 3500 \nL 1119 1403 \nQ 1119 906 1312 657 \nQ 1506 409 1894 409 \nQ 2359 409 2629 706 \nQ 2900 1003 2900 1516 \nL 2900 3500 \nL 3475 3500 \nL 3475 0 \nL 2900 0 \nL 2900 538 \nQ 2691 219 2414 64 \nQ 2138 -91 1772 -91 \nQ 1169 -91 856 284 \nQ 544 659 544 1381 \nz\nM 1991 3584 \nL 1991 3584 \nz\n\" id=\"DejaVuSans-75\" transform=\"scale(0.015625)\"/>\n      <path d=\"M 3116 1747 \nQ 3116 2381 2855 2742 \nQ 2594 3103 2138 3103 \nQ 1681 3103 1420 2742 \nQ 1159 2381 1159 1747 \nQ 1159 1113 1420 752 \nQ 1681 391 2138 391 \nQ 2594 391 2855 752 \nQ 3116 1113 3116 1747 \nz\nM 1159 2969 \nQ 1341 3281 1617 3432 \nQ 1894 3584 2278 3584 \nQ 2916 3584 3314 3078 \nQ 3713 2572 3713 1747 \nQ 3713 922 3314 415 \nQ 2916 -91 2278 -91 \nQ 1894 -91 1617 61 \nQ 1341 213 1159 525 \nL 1159 0 \nL 581 0 \nL 581 4863 \nL 1159 4863 \nL 1159 2969 \nz\n\" id=\"DejaVuSans-62\" transform=\"scale(0.015625)\"/>\n     </defs>\n     <use xlink:href=\"#DejaVuSans-53\"/>\n     <use x=\"63.476562\" xlink:href=\"#DejaVuSans-74\"/>\n     <use x=\"102.685547\" xlink:href=\"#DejaVuSans-65\"/>\n     <use x=\"164.208984\" xlink:href=\"#DejaVuSans-61\"/>\n     <use x=\"225.488281\" xlink:href=\"#DejaVuSans-64\"/>\n     <use x=\"288.964844\" xlink:href=\"#DejaVuSans-79\"/>\n     <use x=\"348.144531\" xlink:href=\"#DejaVuSans-20\"/>\n     <use x=\"379.931641\" xlink:href=\"#DejaVuSans-53\"/>\n     <use x=\"443.408203\" xlink:href=\"#DejaVuSans-74\"/>\n     <use x=\"482.617188\" xlink:href=\"#DejaVuSans-61\"/>\n     <use x=\"543.896484\" xlink:href=\"#DejaVuSans-74\"/>\n     <use x=\"583.105469\" xlink:href=\"#DejaVuSans-65\"/>\n     <use x=\"644.628906\" xlink:href=\"#DejaVuSans-3a\"/>\n     <use x=\"678.320312\" xlink:href=\"#DejaVuSans-20\"/>\n     <use x=\"710.107422\" xlink:href=\"#DejaVuSans-53\"/>\n     <use x=\"773.583984\" xlink:href=\"#DejaVuSans-74\"/>\n     <use x=\"812.792969\" xlink:href=\"#DejaVuSans-72\"/>\n     <use x=\"853.90625\" xlink:href=\"#DejaVuSans-61\"/>\n     <use x=\"915.185547\" xlink:href=\"#DejaVuSans-75\"/>\n     <use x=\"978.564453\" xlink:href=\"#DejaVuSans-62\"/>\n     <use x=\"1042.041016\" xlink:href=\"#DejaVuSans-20\"/>\n     <use x=\"1073.828125\" xlink:href=\"#DejaVuSans-32\"/>\n     <use x=\"1137.451172\" xlink:href=\"#DejaVuSans-30\"/>\n     <use x=\"1201.074219\" xlink:href=\"#DejaVuSans-31\"/>\n     <use x=\"1264.697266\" xlink:href=\"#DejaVuSans-30\"/>\n    </g>\n   </g>\n  </g>\n </g>\n <defs>\n  <clipPath id=\"p460bbed91c\">\n   <rect height=\"217.44\" width=\"253.636364\" x=\"46.3\" y=\"22.318125\"/>\n  </clipPath>\n  <clipPath id=\"pe41ca94718\">\n   <rect height=\"217.44\" width=\"253.636364\" x=\"350.663636\" y=\"22.318125\"/>\n  </clipPath>\n </defs>\n</svg>\n",
      "text/plain": [
       "<Figure size 2000x800 with 2 Axes>"
      ]
     },
     "metadata": {
      "needs_background": "light"
     },
     "output_type": "display_data"
    },
    {
     "data": {
      "application/vnd.jupyter.widget-view+json": {
       "model_id": "44bb9b43610542a2bb701b768fd9ed1f",
       "version_major": 2,
       "version_minor": 0
      },
      "text/plain": [
       "HTML(value=\"<a href='./straub_fig10.pdf' target='_blank'>./straub_fig10.pdf</a><br>\")"
      ]
     },
     "metadata": {},
     "output_type": "display_data"
    }
   ],
   "source": [
    "run_sims = True\n",
    "n_sds = [2**8]#, 2**10, 2**12]\n",
    "steps = [0]#, 7200]\n",
    "nruns = 1 #5\n",
    "\n",
    "fig, ax = pyplot.subplots(ncols=2,sharey=True,figsize=(10,4),dpi=200)\n",
    "\n",
    "# Obtain data\n",
    "parameterization = 'Straub2010'\n",
    "for n_sd in n_sds:\n",
    "    if run_sims:\n",
    "        t1 = time.time()\n",
    "        run_to_steady_state(parameterization, n_sd, steps, nruns, dt=2*si.s)\n",
    "        t2 = time.time()\n",
    "        print('ran '+parameterization+' for '+str(n_sd)+' superdroplets in '+str(t2 - t1)+' sec')\n",
    "    data_filename = 'data/steadystate_' + parameterization + '_' + str(n_sd) + 'sd.pkl'\n",
    "    with open(data_filename, 'rb') as handle:\n",
    "        (x,y_ensemble,rates) = pkl.load(handle)\n",
    "    \n",
    "    # statistics\n",
    "    y_mean = np.nanmean(y_ensemble, axis=0)\n",
    "    y_std = np.nanstd(y_ensemble, axis=0)\n",
    "\n",
    "    # Plotting\n",
    "    cmap = matplotlib.cm.get_cmap('viridis')\n",
    "    dr = np.diff(x) * si.um\n",
    "    dr = np.concatenate([dr, [dr[-1]]])\n",
    "\n",
    "    legend_entries = []\n",
    "\n",
    "    color = next(ax[0]._get_lines.prop_cycler)['color']\n",
    "    for (j, step) in enumerate(steps):  # pylint: disable=protected-access\n",
    "        if step != 0:\n",
    "            lbl = str(n_sd) + ' SDs'\n",
    "            ax[1].plot(2*x/1000,y_mean[j]/dr * si.mm,linestyle='-',color=color,\n",
    "                label= lbl if lbl not in pyplot.gca().get_legend_handles_labels()[1] else '')\n",
    "            ax[1].fill_between(2*x/1000, y_mean[j]*dr * si.mm - y_std[j]/2/dr * si.mm, \n",
    "                               y_mean[j] * si.mm + y_std[j]/2/dr * si.mm, color=color, alpha=0.2)\n",
    "        else:\n",
    "            lbl = str(n_sd) + ' SDs'\n",
    "            ax[0].plot(2*x/1000,y_mean[j]/2/dr * si.mm,linestyle='--',color=color,\n",
    "                    label= lbl if lbl not in pyplot.gca().get_legend_handles_labels()[1] else '')\n",
    "            # ax[0].fill_between(2*x/1000, y_mean[j]/2/dr * si.mm - y_std[j]/2/dr * si.mm, \n",
    "            #                    y_mean[j]/2/dr * si.mm + y_std[j]/2/dr * si.mm, color=color, alpha=0.2)\n",
    "            \n",
    "# Reference data\n",
    "ax[0].plot(straub_x_init/si.mm, straub_y_init, color='k', label='Reference')\n",
    "ax[1].plot(straub_x, np.power(10, straub_log_y) ,color='k', label='Reference')\n",
    "\n",
    "ax[0].set_yscale(\"log\")\n",
    "ax[1].set_yscale(\"log\")\n",
    "ax[0].set_xlim([0.0, 4.0])\n",
    "ax[1].set_xlim([0.0, 4.0])\n",
    "ax[0].set_ylim([10.0, 2e4])\n",
    "ax[1].set_ylim([10.0, 2e4])\n",
    "ax[0].set_xlabel(\"particle diameter (mm)\")\n",
    "ax[1].set_xlabel(\"particle diameter (mm)\")\n",
    "ax[0].set_ylabel(\"N(v) (m$^{-3}$ mm$^{-1})$\")\n",
    "ax[0].legend()\n",
    "ax[0].set_title(\"Initial Condition\")\n",
    "ax[1].set_title(\"Steady State: Straub 2010\")\n",
    "show_plot('straub_fig10.pdf')"
   ]
  },
  {
   "cell_type": "code",
   "execution_count": 39,
   "metadata": {},
   "outputs": [
    {
     "data": {
      "text/plain": [
       "array([nan, nan, nan, nan, nan, nan, nan, nan, nan, nan, nan, nan, nan,\n",
       "       nan, nan, nan, nan, nan, nan, nan, nan, nan, nan, nan, nan, nan,\n",
       "       nan, nan, nan, nan, nan, nan, nan, nan, nan, nan, nan, nan, nan,\n",
       "       nan, nan, nan, nan, nan, nan, nan, nan, nan, nan, nan, nan, nan,\n",
       "       nan, nan, nan, nan, nan, nan, nan, nan, nan, nan, nan, nan, nan,\n",
       "       nan, nan, nan, nan, nan, nan, nan, nan, nan, nan, nan, nan, nan,\n",
       "       nan, nan])"
      ]
     },
     "execution_count": 39,
     "metadata": {},
     "output_type": "execute_result"
    }
   ],
   "source": [
    "y_mean[j]"
   ]
  },
  {
   "cell_type": "code",
   "execution_count": 26,
   "metadata": {},
   "outputs": [
    {
     "data": {
      "text/plain": [
       "array([0., 0., 0., 0., 0., 0., 0., 0., 0., 0., 0., 0., 0., 0., 0., 0., 0.,\n",
       "       0., 0., 0., 0., 0., 0., 0., 0., 0., 0., 0., 0., 0., 0., 0., 0., 0.,\n",
       "       0., 0., 0., 0., 0., 0., 0., 0., 0., 0., 0., 0., 0., 0., 0., 0., 0.,\n",
       "       0., 0., 0., 0., 0., 0., 0., 0., 0., 0., 0., 0., 0., 0., 0., 0., 0.,\n",
       "       0., 0., 0., 0., 0., 0., 0., 0., 0., 0., 0., 0.])"
      ]
     },
     "execution_count": 26,
     "metadata": {},
     "output_type": "execute_result"
    }
   ],
   "source": [
    "y_std[j]/2/dr * si.mm"
   ]
  },
  {
   "cell_type": "code",
   "execution_count": 23,
   "metadata": {},
   "outputs": [
    {
     "data": {
      "text/plain": [
       "(array([7756.76712, 6570.97182, 6846.67404, 5551.10012, 5208.68772,\n",
       "        5885.46208, 3178.86868, 5023.10284, 3487.09248, 3565.06762,\n",
       "        3608.50436, 1808.2406 , 3597.17432, 1777.26056, 1754.94476,\n",
       "        3417.99672, 1650.54798, 1603.38088, 1550.29356, 1491.57868,\n",
       "        1427.62218,    0.     , 1358.90314, 1285.991  , 1209.53986,\n",
       "        1130.27988,    0.     , 1049.0054 ,  966.56026,    0.     ,\n",
       "         883.82014,    0.     ,  801.67258,    0.     ,  720.99528,\n",
       "           0.     ,  642.63324,    0.     ,  567.37592,    0.     ,\n",
       "         495.93518,    0.     ,  428.92536,    0.     ,  366.8464 ,\n",
       "           0.     ,    0.     ,  310.0709 ,    0.     ,  258.83644,\n",
       "           0.     ,    0.     ,  213.24304,    0.     ,    0.     ,\n",
       "         173.25664,    0.     ,    0.     ,  138.71812,    0.     ,\n",
       "           0.     ,    0.     ,  109.35752,    0.     ,    0.     ,\n",
       "          84.81262,    0.     ,    0.     ,    0.     ,   64.65046,\n",
       "           0.     ,    0.     ,    0.     ,   48.39084,    0.     ,\n",
       "           0.     ,    0.     ,   35.5298 ,    0.     ,    0.     ]),)"
      ]
     },
     "execution_count": 23,
     "metadata": {},
     "output_type": "execute_result"
    }
   ],
   "source": [
    "y_mean[j]/2/dr * si.mm - y_std[j]/2/dr * si.mm, "
   ]
  },
  {
   "cell_type": "code",
   "execution_count": 24,
   "metadata": {},
   "outputs": [
    {
     "data": {
      "text/plain": [
       "array([0.38783836, 0.32854859, 0.3423337 , 0.27755501, 0.26043439,\n",
       "       0.2942731 , 0.15894343, 0.25115514, 0.17435462, 0.17825338,\n",
       "       0.18042522, 0.09041203, 0.17985872, 0.08886303, 0.08774724,\n",
       "       0.17089984, 0.0825274 , 0.08016904, 0.07751468, 0.07457893,\n",
       "       0.07138111, 0.        , 0.06794516, 0.06429955, 0.06047699,\n",
       "       0.05651399, 0.        , 0.05245027, 0.04832801, 0.        ,\n",
       "       0.04419101, 0.        , 0.04008363, 0.        , 0.03604976,\n",
       "       0.        , 0.03213166, 0.        , 0.0283688 , 0.        ,\n",
       "       0.02479676, 0.        , 0.02144627, 0.        , 0.01834232,\n",
       "       0.        , 0.        , 0.01550354, 0.        , 0.01294182,\n",
       "       0.        , 0.        , 0.01066215, 0.        , 0.        ,\n",
       "       0.00866283, 0.        , 0.        , 0.00693591, 0.        ,\n",
       "       0.        , 0.        , 0.00546788, 0.        , 0.        ,\n",
       "       0.00424063, 0.        , 0.        , 0.        , 0.00323252,\n",
       "       0.        , 0.        , 0.        , 0.00241954, 0.        ,\n",
       "       0.        , 0.        , 0.00177649, 0.        , 0.        ])"
      ]
     },
     "execution_count": 24,
     "metadata": {},
     "output_type": "execute_result"
    }
   ],
   "source": [
    "y_mean[j] * si.mm + y_std[j]/2/dr * si.mm"
   ]
  },
  {
   "cell_type": "code",
   "execution_count": 15,
   "metadata": {},
   "outputs": [
    {
     "data": {
      "text/plain": [
       "array([7756.76712, 6570.97182, 6846.67404, 5551.10012, 5208.68772,\n",
       "       5885.46208, 3178.86868, 5023.10284, 3487.09248, 3565.06762,\n",
       "       3608.50436, 1808.2406 , 3597.17432, 1777.26056, 1754.94476,\n",
       "       3417.99672, 1650.54798, 1603.38088, 1550.29356, 1491.57868,\n",
       "       1427.62218,    0.     , 1358.90314, 1285.991  , 1209.53986,\n",
       "       1130.27988,    0.     , 1049.0054 ,  966.56026,    0.     ,\n",
       "        883.82014,    0.     ,  801.67258,    0.     ,  720.99528,\n",
       "          0.     ,  642.63324,    0.     ,  567.37592,    0.     ,\n",
       "        495.93518,    0.     ,  428.92536,    0.     ,  366.8464 ,\n",
       "          0.     ,    0.     ,  310.0709 ,    0.     ,  258.83644,\n",
       "          0.     ,    0.     ,  213.24304,    0.     ,    0.     ,\n",
       "        173.25664,    0.     ,    0.     ,  138.71812,    0.     ,\n",
       "          0.     ,    0.     ,  109.35752,    0.     ,    0.     ,\n",
       "         84.81262,    0.     ,    0.     ,    0.     ,   64.65046,\n",
       "          0.     ,    0.     ,    0.     ,   48.39084,    0.     ,\n",
       "          0.     ,    0.     ,   35.5298 ,    0.     ,    0.     ])"
      ]
     },
     "execution_count": 15,
     "metadata": {},
     "output_type": "execute_result"
    }
   ],
   "source": [
    "y_mean[j]/2/dr * si.mm - y_std[j]/2/dr * si.mm"
   ]
  },
  {
   "cell_type": "code",
   "execution_count": 17,
   "metadata": {},
   "outputs": [
    {
     "data": {
      "text/plain": [
       "array([0., 0., 0., 0., 0., 0., 0., 0., 0., 0., 0., 0., 0., 0., 0., 0., 0.,\n",
       "       0., 0., 0., 0., 0., 0., 0., 0., 0., 0., 0., 0., 0., 0., 0., 0., 0.,\n",
       "       0., 0., 0., 0., 0., 0., 0., 0., 0., 0., 0., 0., 0., 0., 0., 0., 0.,\n",
       "       0., 0., 0., 0., 0., 0., 0., 0., 0., 0., 0., 0., 0., 0., 0., 0., 0.,\n",
       "       0., 0., 0., 0., 0., 0., 0., 0., 0., 0., 0., 0.])"
      ]
     },
     "execution_count": 17,
     "metadata": {},
     "output_type": "execute_result"
    }
   ],
   "source": [
    "(y_mean[j]/2/dr * si.mm + y_std[j]/2/dr * si.mm) - (y_mean[j]/2/dr * si.mm - y_std[j]/2/dr * si.mm)"
   ]
  },
  {
   "cell_type": "code",
   "execution_count": null,
   "metadata": {},
   "outputs": [],
   "source": []
  }
 ],
 "metadata": {
  "kernelspec": {
   "display_name": "edjPySDM",
   "language": "python",
   "name": "python3"
  },
  "language_info": {
   "codemirror_mode": {
    "name": "ipython",
    "version": 3
   },
   "file_extension": ".py",
   "mimetype": "text/x-python",
   "name": "python",
   "nbconvert_exporter": "python",
   "pygments_lexer": "ipython3",
   "version": "3.9.4 (default, Apr  9 2021, 09:32:38) \n[Clang 10.0.0 ]"
  },
  "orig_nbformat": 4,
  "vscode": {
   "interpreter": {
    "hash": "b43cf254c70d60c2e21a7f71ba113e70c1694742e72407132919c841d907074b"
   }
  }
 },
 "nbformat": 4,
 "nbformat_minor": 2
}
